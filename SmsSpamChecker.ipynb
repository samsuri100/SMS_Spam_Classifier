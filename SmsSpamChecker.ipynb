{
 "cells": [
  {
   "cell_type": "code",
   "execution_count": 1,
   "metadata": {},
   "outputs": [],
   "source": [
    "import enchant\n",
    "import numpy as np\n",
    "import pandas as pd\n",
    "\n",
    "from wordcloud import WordCloud\n",
    "from matplotlib import pyplot as plt\n",
    "\n",
    "from nltk.tokenize import word_tokenize\n",
    "from sklearn.feature_extraction.text import CountVectorizer\n",
    "from sklearn.feature_extraction.text import TfidfVectorizer\n",
    "\n",
    "from sklearn.naive_bayes import BernoulliNB\n",
    "from sklearn.naive_bayes import MultinomialNB\n",
    "from sklearn.linear_model import LogisticRegression\n",
    "from sklearn.svm import SVC\n",
    "\n",
    "from sklearn.metrics import accuracy_score\n",
    "from sklearn.model_selection import train_test_split\n",
    "\n",
    "from sklearn.preprocessing import StandardScaler\n",
    "from sklearn.decomposition import PCA"
   ]
  },
  {
   "cell_type": "markdown",
   "metadata": {},
   "source": [
    "# What are we loading into memory and working with?\n",
    "\n",
    "We are working with a dataset that is analyzing whether a given SMS text message is spam, denoted 'spam', or not, denoted 'ham'. The text, and the classification, are the only two file attributes.\n",
    "\n",
    "Lets load the dataset into memory, and take a look at it."
   ]
  },
  {
   "cell_type": "code",
   "execution_count": 2,
   "metadata": {},
   "outputs": [],
   "source": [
    "#Reading in 'Spam SMS' dataset into memory\n",
    "spamPath = '/home/samsuri/DataSets/SmsSpam/spam.csv'\n",
    "#Latin encoding must be used, invalid encoding for utf-8\n",
    "df = pd.read_csv(spamPath, encoding=\"latin\", usecols=[0,1], names=['classification', 'text'], skiprows=1)\n",
    "#Lowercasing all text in 'text' column\n",
    "df['text'] = df['text'].str.lower()"
   ]
  },
  {
   "cell_type": "code",
   "execution_count": 3,
   "metadata": {
    "scrolled": true
   },
   "outputs": [
    {
     "data": {
      "text/html": [
       "<div>\n",
       "<style scoped>\n",
       "    .dataframe tbody tr th:only-of-type {\n",
       "        vertical-align: middle;\n",
       "    }\n",
       "\n",
       "    .dataframe tbody tr th {\n",
       "        vertical-align: top;\n",
       "    }\n",
       "\n",
       "    .dataframe thead th {\n",
       "        text-align: right;\n",
       "    }\n",
       "</style>\n",
       "<table border=\"1\" class=\"dataframe\">\n",
       "  <thead>\n",
       "    <tr style=\"text-align: right;\">\n",
       "      <th></th>\n",
       "      <th>classification</th>\n",
       "      <th>text</th>\n",
       "    </tr>\n",
       "  </thead>\n",
       "  <tbody>\n",
       "    <tr>\n",
       "      <th>0</th>\n",
       "      <td>ham</td>\n",
       "      <td>go until jurong point, crazy.. available only ...</td>\n",
       "    </tr>\n",
       "    <tr>\n",
       "      <th>1</th>\n",
       "      <td>ham</td>\n",
       "      <td>ok lar... joking wif u oni...</td>\n",
       "    </tr>\n",
       "    <tr>\n",
       "      <th>2</th>\n",
       "      <td>spam</td>\n",
       "      <td>free entry in 2 a wkly comp to win fa cup fina...</td>\n",
       "    </tr>\n",
       "    <tr>\n",
       "      <th>3</th>\n",
       "      <td>ham</td>\n",
       "      <td>u dun say so early hor... u c already then say...</td>\n",
       "    </tr>\n",
       "    <tr>\n",
       "      <th>4</th>\n",
       "      <td>ham</td>\n",
       "      <td>nah i don't think he goes to usf, he lives aro...</td>\n",
       "    </tr>\n",
       "    <tr>\n",
       "      <th>5</th>\n",
       "      <td>spam</td>\n",
       "      <td>freemsg hey there darling it's been 3 week's n...</td>\n",
       "    </tr>\n",
       "    <tr>\n",
       "      <th>6</th>\n",
       "      <td>ham</td>\n",
       "      <td>even my brother is not like to speak with me. ...</td>\n",
       "    </tr>\n",
       "    <tr>\n",
       "      <th>7</th>\n",
       "      <td>ham</td>\n",
       "      <td>as per your request 'melle melle (oru minnamin...</td>\n",
       "    </tr>\n",
       "    <tr>\n",
       "      <th>8</th>\n",
       "      <td>spam</td>\n",
       "      <td>winner!! as a valued network customer you have...</td>\n",
       "    </tr>\n",
       "    <tr>\n",
       "      <th>9</th>\n",
       "      <td>spam</td>\n",
       "      <td>had your mobile 11 months or more? u r entitle...</td>\n",
       "    </tr>\n",
       "  </tbody>\n",
       "</table>\n",
       "</div>"
      ],
      "text/plain": [
       "  classification                                               text\n",
       "0            ham  go until jurong point, crazy.. available only ...\n",
       "1            ham                      ok lar... joking wif u oni...\n",
       "2           spam  free entry in 2 a wkly comp to win fa cup fina...\n",
       "3            ham  u dun say so early hor... u c already then say...\n",
       "4            ham  nah i don't think he goes to usf, he lives aro...\n",
       "5           spam  freemsg hey there darling it's been 3 week's n...\n",
       "6            ham  even my brother is not like to speak with me. ...\n",
       "7            ham  as per your request 'melle melle (oru minnamin...\n",
       "8           spam  winner!! as a valued network customer you have...\n",
       "9           spam  had your mobile 11 months or more? u r entitle..."
      ]
     },
     "execution_count": 3,
     "metadata": {},
     "output_type": "execute_result"
    }
   ],
   "source": [
    "#Looking at our data\n",
    "df.head(10)"
   ]
  },
  {
   "cell_type": "markdown",
   "metadata": {},
   "source": [
    "# What are the most common words?\n",
    "## Lets create a word cloud  graphic and see\n",
    "Using a word cloud graphic, we can take a look at the most common words, which will appear larger in the word cloud, as upposed to less common words, which will appear smaller"
   ]
  },
  {
   "cell_type": "code",
   "execution_count": 4,
   "metadata": {},
   "outputs": [
    {
     "data": {
      "image/png": "[encoded data removed]",
      "text/plain": [
       "<Figure size 720x576 with 1 Axes>"
      ]
     },
     "metadata": {},
     "output_type": "display_data"
    }
   ],
   "source": [
    "#Getting list of all SMS texts\n",
    "smsTexts = []\n",
    "for index,row in df.iterrows():\n",
    "    smsTexts.append(row['text'])\n",
    "\n",
    "#Joining SMS texts into a single string\n",
    "allTextsString = (' ').join(smsTexts)\n",
    "\n",
    "#Creating word cloud graphic and displaying\n",
    "wc = WordCloud(width=512, height=512).generate(allTextsString)\n",
    "plt.figure(figsize=(10,8), facecolor='k')\n",
    "plt.imshow(wc)\n",
    "plt.axis('off')\n",
    "plt.tight_layout(pad=0)\n",
    "plt.show()"
   ]
  },
  {
   "cell_type": "markdown",
   "metadata": {},
   "source": [
    "## We can now see some common words\n",
    "So as we can see, the words: 'now', 'will', 'got', 'it', love', 'ur', 'ok' are all very frequent, but does any one of these frequent words explain for a large amount of variability in end spam classification?"
   ]
  },
  {
   "cell_type": "markdown",
   "metadata": {},
   "source": [
    "# Do the most common words account for a lot of variability?\n",
    "## Lets do a Principal Component Analysis to find out"
   ]
  },
  {
   "cell_type": "code",
   "execution_count": 5,
   "metadata": {},
   "outputs": [],
   "source": [
    "#List of all SMS texts\n",
    "documentList = df['text']\n",
    "vect = CountVectorizer()\n",
    "#Frequency count matrix of all words in SMS texts\n",
    "countMatrix = vect.fit_transform(documentList)\n",
    "tokenizedDf = pd.DataFrame(countMatrix.toarray(), columns=vect.get_feature_names())\n",
    "\n",
    "#Encoding SMS texts for ML algorithms\n",
    "resultEncodingDict = {'ham': 1, 'spam': 0}\n",
    "resultList = df['classification']\n",
    "resultList.replace(resultEncodingDict, inplace=True)\n",
    "xTrain, xTest, yTrain, yTest = train_test_split(tokenizedDf, resultList, test_size=.3, random_state=123)"
   ]
  },
  {
   "cell_type": "code",
   "execution_count": 6,
   "metadata": {},
   "outputs": [],
   "source": [
    "#Numpy array of frequency counts on tokenized SMS texts\n",
    "frequencyCounts = tokenizedDf.values\n",
    "#Encoded 'spam'/'ham' Series\n",
    "encodedClassication = resultList.values"
   ]
  },
  {
   "cell_type": "code",
   "execution_count": 7,
   "metadata": {},
   "outputs": [],
   "source": [
    "#Standardizing frequency count matrix\n",
    "standardizedFreqCounts = StandardScaler().fit_transform(frequencyCounts)"
   ]
  },
  {
   "cell_type": "code",
   "execution_count": 8,
   "metadata": {},
   "outputs": [],
   "source": [
    "#Only looking at PC1 and PC2\n",
    "pca = PCA(n_components=2)\n",
    "princComp = pca.fit_transform(standardizedFreqCounts)"
   ]
  },
  {
   "cell_type": "code",
   "execution_count": 9,
   "metadata": {
    "scrolled": true
   },
   "outputs": [
    {
     "data": {
      "text/html": [
       "<div>\n",
       "<style scoped>\n",
       "    .dataframe tbody tr th:only-of-type {\n",
       "        vertical-align: middle;\n",
       "    }\n",
       "\n",
       "    .dataframe tbody tr th {\n",
       "        vertical-align: top;\n",
       "    }\n",
       "\n",
       "    .dataframe thead th {\n",
       "        text-align: right;\n",
       "    }\n",
       "</style>\n",
       "<table border=\"1\" class=\"dataframe\">\n",
       "  <thead>\n",
       "    <tr style=\"text-align: right;\">\n",
       "      <th></th>\n",
       "      <th>pc1</th>\n",
       "      <th>pc2</th>\n",
       "      <th>classification</th>\n",
       "    </tr>\n",
       "  </thead>\n",
       "  <tbody>\n",
       "    <tr>\n",
       "      <th>0</th>\n",
       "      <td>-0.129148</td>\n",
       "      <td>-0.313474</td>\n",
       "      <td>1</td>\n",
       "    </tr>\n",
       "    <tr>\n",
       "      <th>1</th>\n",
       "      <td>-0.092974</td>\n",
       "      <td>-0.330700</td>\n",
       "      <td>1</td>\n",
       "    </tr>\n",
       "    <tr>\n",
       "      <th>2</th>\n",
       "      <td>-0.100751</td>\n",
       "      <td>-0.498851</td>\n",
       "      <td>0</td>\n",
       "    </tr>\n",
       "    <tr>\n",
       "      <th>3</th>\n",
       "      <td>-0.096245</td>\n",
       "      <td>-0.194324</td>\n",
       "      <td>1</td>\n",
       "    </tr>\n",
       "    <tr>\n",
       "      <th>4</th>\n",
       "      <td>-0.032621</td>\n",
       "      <td>0.036053</td>\n",
       "      <td>1</td>\n",
       "    </tr>\n",
       "  </tbody>\n",
       "</table>\n",
       "</div>"
      ],
      "text/plain": [
       "        pc1       pc2  classification\n",
       "0 -0.129148 -0.313474               1\n",
       "1 -0.092974 -0.330700               1\n",
       "2 -0.100751 -0.498851               0\n",
       "3 -0.096245 -0.194324               1\n",
       "4 -0.032621  0.036053               1"
      ]
     },
     "execution_count": 9,
     "metadata": {},
     "output_type": "execute_result"
    }
   ],
   "source": [
    "#Concatinating pc1, pc2, and encoded classification array\n",
    "princDf = pd.DataFrame(princComp, columns=['pc1', 'pc2'])\n",
    "mergedPrincDf = pd.concat([princDf, pd.Series(encodedClassication, name='classification')], axis=1)\n",
    "mergedPrincDf.head()"
   ]
  },
  {
   "cell_type": "code",
   "execution_count": 10,
   "metadata": {
    "scrolled": false
   },
   "outputs": [
    {
     "data": {
      "image/png": "[encoded data removed]",
      "text/plain": [
       "<Figure size 576x576 with 1 Axes>"
      ]
     },
     "metadata": {
      "needs_background": "light"
     },
     "output_type": "display_data"
    }
   ],
   "source": [
    "#Plotting data, to get a visual representation\n",
    "fig = plt.figure(figsize = (8,8))\n",
    "ax = fig.add_subplot(1,1,1)\n",
    "#Adding x and y labels\n",
    "ax.set_xlabel('PC1', fontsize=15)\n",
    "ax.set_ylabel('PC2', fontsize=15)\n",
    "#Adding title\n",
    "ax.set_title('2-Component PCA Chart', fontsize=20)\n",
    "\n",
    "classifications = [1, 0]\n",
    "colors = ['b', 'r']\n",
    "#Plotting scatter graph\n",
    "for classification, color in zip(classifications, colors):\n",
    "    indicesToKeep = mergedPrincDf['classification'] == classification\n",
    "    ax.scatter(mergedPrincDf.loc[indicesToKeep, 'pc1'], \n",
    "               mergedPrincDf.loc[indicesToKeep, 'pc2'], \n",
    "               c=color, s=50)\n",
    "    \n",
    "ax.legend(classifications)\n",
    "ax.grid()"
   ]
  },
  {
   "cell_type": "code",
   "execution_count": 11,
   "metadata": {
    "scrolled": true
   },
   "outputs": [
    {
     "name": "stdout",
     "output_type": "stream",
     "text": [
      "Varience explained by pc1 is: 0.304%\n",
      "Varience explained by pc2 is: 0.293%\n"
     ]
    }
   ],
   "source": [
    "#Looking at varience each explained by PC1 and PC2\n",
    "pc1Var, pc2Var = pca.explained_variance_ratio_\n",
    "print(f'Varience explained by pc1 is: {pc1Var*100:.3f}%')\n",
    "print(f'Varience explained by pc2 is: {pc2Var*100:.3f}%')"
   ]
  },
  {
   "cell_type": "markdown",
   "metadata": {},
   "source": [
    "## PCA does not yield many answers\n",
    "\n",
    "As we can see, performing a Principal Component Analysis is not effective at all on finding a particular dimension that carries more weight than any other, this makes sense given that each SMS text has so many words in them."
   ]
  },
  {
   "cell_type": "markdown",
   "metadata": {},
   "source": [
    "# Lets investigate some keywords that may be of interest\n",
    "\n",
    "By looking at specific words, such as 'free' and 'winning', we might be able to increase the chance that PCA will find a dimension that demonstrates high variability. Lets investigate..."
   ]
  },
  {
   "cell_type": "code",
   "execution_count": 12,
   "metadata": {},
   "outputs": [],
   "source": [
    "freeBool = []\n",
    "winBool = []\n",
    "interestedBool = []\n",
    "buyBool = []\n",
    "dollarSignBool = []\n",
    "offerBool = []\n",
    "exclaimBool = []\n",
    "questionBool = []\n",
    "\n",
    "#Dictionary of lists that represent important features\n",
    "keyWordDict = {'free': freeBool, 'win': winBool, 'interested': interestedBool, 'buy': buyBool, \n",
    "               '$': dollarSignBool, 'offer': offerBool, '!': exclaimBool, '?': questionBool}\n",
    "\n",
    "#Seeing if each important feature is in each SMS text\n",
    "#Appending boolean result\n",
    "for index, row in df.iterrows():\n",
    "    for keyWord, keyList in keyWordDict.items():\n",
    "        if keyWord in row.text:\n",
    "            keyList.append(1)\n",
    "        else:\n",
    "            keyList.append(0)"
   ]
  },
  {
   "cell_type": "code",
   "execution_count": 13,
   "metadata": {
    "scrolled": true
   },
   "outputs": [
    {
     "data": {
      "text/html": [
       "<div>\n",
       "<style scoped>\n",
       "    .dataframe tbody tr th:only-of-type {\n",
       "        vertical-align: middle;\n",
       "    }\n",
       "\n",
       "    .dataframe tbody tr th {\n",
       "        vertical-align: top;\n",
       "    }\n",
       "\n",
       "    .dataframe thead th {\n",
       "        text-align: right;\n",
       "    }\n",
       "</style>\n",
       "<table border=\"1\" class=\"dataframe\">\n",
       "  <thead>\n",
       "    <tr style=\"text-align: right;\">\n",
       "      <th></th>\n",
       "      <th>Free</th>\n",
       "      <th>Win</th>\n",
       "      <th>Interested</th>\n",
       "      <th>Buy</th>\n",
       "      <th>DollarSign</th>\n",
       "      <th>Offer</th>\n",
       "      <th>Exclamation</th>\n",
       "      <th>Question</th>\n",
       "    </tr>\n",
       "  </thead>\n",
       "  <tbody>\n",
       "    <tr>\n",
       "      <th>0</th>\n",
       "      <td>0</td>\n",
       "      <td>0</td>\n",
       "      <td>0</td>\n",
       "      <td>0</td>\n",
       "      <td>0</td>\n",
       "      <td>0</td>\n",
       "      <td>0</td>\n",
       "      <td>0</td>\n",
       "    </tr>\n",
       "    <tr>\n",
       "      <th>1</th>\n",
       "      <td>0</td>\n",
       "      <td>0</td>\n",
       "      <td>0</td>\n",
       "      <td>0</td>\n",
       "      <td>0</td>\n",
       "      <td>0</td>\n",
       "      <td>0</td>\n",
       "      <td>0</td>\n",
       "    </tr>\n",
       "    <tr>\n",
       "      <th>2</th>\n",
       "      <td>1</td>\n",
       "      <td>1</td>\n",
       "      <td>0</td>\n",
       "      <td>0</td>\n",
       "      <td>0</td>\n",
       "      <td>0</td>\n",
       "      <td>0</td>\n",
       "      <td>0</td>\n",
       "    </tr>\n",
       "    <tr>\n",
       "      <th>3</th>\n",
       "      <td>0</td>\n",
       "      <td>0</td>\n",
       "      <td>0</td>\n",
       "      <td>0</td>\n",
       "      <td>0</td>\n",
       "      <td>0</td>\n",
       "      <td>0</td>\n",
       "      <td>0</td>\n",
       "    </tr>\n",
       "    <tr>\n",
       "      <th>4</th>\n",
       "      <td>0</td>\n",
       "      <td>0</td>\n",
       "      <td>0</td>\n",
       "      <td>0</td>\n",
       "      <td>0</td>\n",
       "      <td>0</td>\n",
       "      <td>0</td>\n",
       "      <td>0</td>\n",
       "    </tr>\n",
       "  </tbody>\n",
       "</table>\n",
       "</div>"
      ],
      "text/plain": [
       "   Free  Win  Interested  Buy  DollarSign  Offer  Exclamation  Question\n",
       "0     0    0           0    0           0      0            0         0\n",
       "1     0    0           0    0           0      0            0         0\n",
       "2     1    1           0    0           0      0            0         0\n",
       "3     0    0           0    0           0      0            0         0\n",
       "4     0    0           0    0           0      0            0         0"
      ]
     },
     "execution_count": 13,
     "metadata": {},
     "output_type": "execute_result"
    }
   ],
   "source": [
    "#Creating dataframe from import features lists\n",
    "keyWordDf = pd.DataFrame(list(zip(freeBool, winBool, interestedBool, buyBool, \n",
    "                          dollarSignBool, offerBool, exclaimBool, questionBool)),\n",
    "                          columns=['Free', 'Win', 'Interested', 'Buy', 'DollarSign',\n",
    "                                  'Offer', 'Exclamation', 'Question'])\n",
    "\n",
    "keyWordDf.head()"
   ]
  },
  {
   "cell_type": "code",
   "execution_count": 14,
   "metadata": {},
   "outputs": [],
   "source": [
    "#Standardizing frequency count matrix\n",
    "standardizedFreqCounts = StandardScaler().fit_transform(keyWordDf)"
   ]
  },
  {
   "cell_type": "code",
   "execution_count": 15,
   "metadata": {},
   "outputs": [],
   "source": [
    "#Only looking at PC1 and PC2\n",
    "pca = PCA(n_components=2)\n",
    "princComp = pca.fit_transform(standardizedFreqCounts)"
   ]
  },
  {
   "cell_type": "code",
   "execution_count": 16,
   "metadata": {
    "scrolled": false
   },
   "outputs": [
    {
     "data": {
      "text/html": [
       "<div>\n",
       "<style scoped>\n",
       "    .dataframe tbody tr th:only-of-type {\n",
       "        vertical-align: middle;\n",
       "    }\n",
       "\n",
       "    .dataframe tbody tr th {\n",
       "        vertical-align: top;\n",
       "    }\n",
       "\n",
       "    .dataframe thead th {\n",
       "        text-align: right;\n",
       "    }\n",
       "</style>\n",
       "<table border=\"1\" class=\"dataframe\">\n",
       "  <thead>\n",
       "    <tr style=\"text-align: right;\">\n",
       "      <th></th>\n",
       "      <th>pc1</th>\n",
       "      <th>pc2</th>\n",
       "      <th>classification</th>\n",
       "    </tr>\n",
       "  </thead>\n",
       "  <tbody>\n",
       "    <tr>\n",
       "      <th>0</th>\n",
       "      <td>-0.474373</td>\n",
       "      <td>-0.162376</td>\n",
       "      <td>1</td>\n",
       "    </tr>\n",
       "    <tr>\n",
       "      <th>1</th>\n",
       "      <td>-0.474373</td>\n",
       "      <td>-0.162376</td>\n",
       "      <td>1</td>\n",
       "    </tr>\n",
       "    <tr>\n",
       "      <th>2</th>\n",
       "      <td>4.619581</td>\n",
       "      <td>1.386276</td>\n",
       "      <td>0</td>\n",
       "    </tr>\n",
       "    <tr>\n",
       "      <th>3</th>\n",
       "      <td>-0.474373</td>\n",
       "      <td>-0.162376</td>\n",
       "      <td>1</td>\n",
       "    </tr>\n",
       "    <tr>\n",
       "      <th>4</th>\n",
       "      <td>-0.474373</td>\n",
       "      <td>-0.162376</td>\n",
       "      <td>1</td>\n",
       "    </tr>\n",
       "  </tbody>\n",
       "</table>\n",
       "</div>"
      ],
      "text/plain": [
       "        pc1       pc2  classification\n",
       "0 -0.474373 -0.162376               1\n",
       "1 -0.474373 -0.162376               1\n",
       "2  4.619581  1.386276               0\n",
       "3 -0.474373 -0.162376               1\n",
       "4 -0.474373 -0.162376               1"
      ]
     },
     "execution_count": 16,
     "metadata": {},
     "output_type": "execute_result"
    }
   ],
   "source": [
    "#Concatinating pc1, pc2, and encoded classification array\n",
    "princDf = pd.DataFrame(princComp, columns=['pc1', 'pc2'])\n",
    "mergedPrincDf = pd.concat([princDf, pd.Series(encodedClassication, name='classification')], axis=1)\n",
    "mergedPrincDf.head()"
   ]
  },
  {
   "cell_type": "code",
   "execution_count": 17,
   "metadata": {
    "scrolled": false
   },
   "outputs": [
    {
     "data": {
      "image/png": "[encoded data removed]",
      "text/plain": [
       "<Figure size 576x576 with 1 Axes>"
      ]
     },
     "metadata": {
      "needs_background": "light"
     },
     "output_type": "display_data"
    }
   ],
   "source": [
    "#Plotting data, to get a visual representation\n",
    "fig = plt.figure(figsize = (8,8))\n",
    "ax = fig.add_subplot(1,1,1)\n",
    "#Adding x and y labels\n",
    "ax.set_xlabel('PC1', fontsize=15)\n",
    "ax.set_ylabel('PC2', fontsize=15)\n",
    "#Adding title\n",
    "ax.set_title('2-Component PCA Chart', fontsize=20)\n",
    "\n",
    "classifications = [1, 0]\n",
    "colors = ['b', 'r']\n",
    "#Plotting scatter graph\n",
    "for classification, color in zip(classifications, colors):\n",
    "    indicesToKeep = mergedPrincDf['classification'] == classification\n",
    "    ax.scatter(mergedPrincDf.loc[indicesToKeep, 'pc1'], \n",
    "               mergedPrincDf.loc[indicesToKeep, 'pc2'], \n",
    "               c=color, s=50)\n",
    "    \n",
    "ax.legend(classifications)\n",
    "ax.grid()"
   ]
  },
  {
   "cell_type": "code",
   "execution_count": 18,
   "metadata": {},
   "outputs": [
    {
     "name": "stdout",
     "output_type": "stream",
     "text": [
      "Varience explained by pc1 is: 15.412%\n",
      "Varience explained by pc2 is: 14.176%\n"
     ]
    }
   ],
   "source": [
    "#Looking at varience each explained by PC1 and PC2\n",
    "pc1Var, pc2Var = pca.explained_variance_ratio_\n",
    "print(f'Varience explained by pc1 is: {pc1Var*100:.3f}%')\n",
    "print(f'Varience explained by pc2 is: {pc2Var*100:.3f}%')"
   ]
  },
  {
   "cell_type": "markdown",
   "metadata": {},
   "source": [
    "## 2-Dimensions do account for more variability\n",
    "So when we restrict the number of dimensions to certain key traits, the top traits do account for more variability when stripped of many of the words that are not key traits"
   ]
  },
  {
   "cell_type": "markdown",
   "metadata": {},
   "source": [
    "# Given our first PCA analysis, let's see how some common algorithms perform on the original data set?\n",
    "\n",
    "Lets first investigate the performance of some common algorithms:\n",
    "- MultinomialNB\n",
    "- Logistic Regression\n",
    "- Support Vector Machine\n",
    "\n",
    "Given that we are doing binary classification, logistic regression, should be included. For all algorithms, the text will tokenized into words, using a bag-of-words approach."
   ]
  },
  {
   "cell_type": "markdown",
   "metadata": {},
   "source": [
    "### MultinomialNB"
   ]
  },
  {
   "cell_type": "code",
   "execution_count": 19,
   "metadata": {},
   "outputs": [
    {
     "data": {
      "text/plain": [
       "98.14593301435407"
      ]
     },
     "execution_count": 19,
     "metadata": {},
     "output_type": "execute_result"
    }
   ],
   "source": [
    "mnb = MultinomialNB()\n",
    "mnb.fit(xTrain, yTrain)\n",
    "accuracy_score(yTest, mnb.predict(xTest))*100"
   ]
  },
  {
   "cell_type": "markdown",
   "metadata": {},
   "source": [
    "### Logistic Regression"
   ]
  },
  {
   "cell_type": "code",
   "execution_count": 20,
   "metadata": {},
   "outputs": [
    {
     "name": "stderr",
     "output_type": "stream",
     "text": [
      "/home/samsuri/anaconda3/lib/python3.7/site-packages/sklearn/linear_model/logistic.py:432: FutureWarning: Default solver will be changed to 'lbfgs' in 0.22. Specify a solver to silence this warning.\n",
      "  FutureWarning)\n"
     ]
    },
    {
     "data": {
      "text/plain": [
       "98.26555023923444"
      ]
     },
     "execution_count": 20,
     "metadata": {},
     "output_type": "execute_result"
    }
   ],
   "source": [
    "lr = LogisticRegression()\n",
    "lr.fit(xTrain, yTrain)\n",
    "accuracy_score(yTest, lr.predict(xTest))*100"
   ]
  },
  {
   "cell_type": "markdown",
   "metadata": {},
   "source": [
    "### Support Vector Machine"
   ]
  },
  {
   "cell_type": "code",
   "execution_count": 21,
   "metadata": {
    "scrolled": true
   },
   "outputs": [
    {
     "data": {
      "text/plain": [
       "87.14114832535886"
      ]
     },
     "execution_count": 21,
     "metadata": {},
     "output_type": "execute_result"
    }
   ],
   "source": [
    "svc = SVC(gamma='auto')\n",
    "svc.fit(xTrain, yTrain)\n",
    "accuracy_score(yTest, svc.predict(xTest))*100"
   ]
  },
  {
   "cell_type": "markdown",
   "metadata": {},
   "source": [
    "## Preliminary Results\n",
    "\n",
    "Clearly, MultinomialNB and Logistic Regression did the best, whereas SVC did the worst. This is most likely because though the data is in a very high dimension, given that the number of columns is established over the entire vocabulary of the 'text' column, it not not easily seperatable, regardless of the kernal used.\n",
    "\n",
    "Also, because an optimum soft margin had to be found, SVC was the slowest of the methods.\n",
    "\n",
    "MultinomialNB did very well considering its speed and simplicity. It was particularly well suited for the bag-of-words technique on the text data."
   ]
  },
  {
   "cell_type": "markdown",
   "metadata": {},
   "source": [
    "# Can we do better?\n",
    "## Lets Strip out words that are not valid English\n",
    "Our best result was 98.27% accuracy by using logistic regression. Can we do better? By striping out words that are not valid English, such as numbers, slang, and giberish, we can isolate words that ideally we derive more meaning from.\n",
    "\n",
    "For example, the word 'free' might be significant, though its weight is diluted when there are many other words. Lets see the effect of only including valid English words..."
   ]
  },
  {
   "cell_type": "code",
   "execution_count": 22,
   "metadata": {},
   "outputs": [],
   "source": [
    "#Establishing a set of all valid words in the English dictionary\n",
    "dictionary = enchant.Dict('en_US')\n",
    "\n",
    "#New dataframe will have only valid English words\n",
    "#along with bools to represent '!' and '?' being present or not \n",
    "exclaimMark = []\n",
    "questionMark = []\n",
    "cleanedText = []\n",
    "for index, row in df.iterrows():\n",
    "    tempList = []\n",
    "    #Tokenizing text in each row of dataframe\n",
    "    tokenList = word_tokenize(row['text'])\n",
    "    \n",
    "    exclaimBool = 0\n",
    "    questionBool = 0\n",
    "    for possibleWord in tokenList:\n",
    "        #Seeing if '!' is present\n",
    "        if possibleWord == '!':\n",
    "            exclaimBool = 1\n",
    "        #Seeing if '?' is present\n",
    "        elif possibleWord == '?':\n",
    "            questionBool = 1\n",
    "        #Seeing if each words in SMS text is in NTLK dictionary\n",
    "        elif dictionary.check(possibleWord) == True:\n",
    "            if (len(possibleWord) == 1) and (possibleWord not in ['a', 'A', 'i', 'I']):\n",
    "                continue\n",
    "            else:\n",
    "                tempList.append(possibleWord)\n",
    "    \n",
    "    exclaimMark.append(exclaimBool)\n",
    "    questionMark.append(questionBool)\n",
    "    cleanedText.append(' '.join(tempList))"
   ]
  },
  {
   "cell_type": "code",
   "execution_count": 23,
   "metadata": {},
   "outputs": [],
   "source": [
    "#Rebuilding frequency count matrix for SMS text\n",
    "dictVect = CountVectorizer()\n",
    "dictCountMatrix = dictVect.fit_transform(cleanedText)\n",
    "\n",
    "#Converting frequency count matrix to numpy array\n",
    "#Converting lists to numpy array\n",
    "dictCountMatrix = dictCountMatrix.toarray()\n",
    "exclaimMarkArr = np.array([exclaimMark])\n",
    "questionMarkArr = np.array([questionMark])\n",
    "\n",
    "#Concatinating numpy arrays along vertical axis\n",
    "dictMatrix = np.concatenate([dictCountMatrix, exclaimMarkArr.T, questionMarkArr.T], axis=1)\n",
    "\n",
    "#Adding new columns in order columns were concatinated\n",
    "dictColumns = dictVect.get_feature_names() + ['Exclamation'] + ['Question']\n",
    "dictionaryDf = pd.DataFrame(dictMatrix, columns=dictColumns)"
   ]
  },
  {
   "cell_type": "code",
   "execution_count": 24,
   "metadata": {},
   "outputs": [
    {
     "data": {
      "text/html": [
       "<div>\n",
       "<style scoped>\n",
       "    .dataframe tbody tr th:only-of-type {\n",
       "        vertical-align: middle;\n",
       "    }\n",
       "\n",
       "    .dataframe tbody tr th {\n",
       "        vertical-align: top;\n",
       "    }\n",
       "\n",
       "    .dataframe thead th {\n",
       "        text-align: right;\n",
       "    }\n",
       "</style>\n",
       "<table border=\"1\" class=\"dataframe\">\n",
       "  <thead>\n",
       "    <tr style=\"text-align: right;\">\n",
       "      <th></th>\n",
       "      <th>Text</th>\n",
       "      <th>ExclamationMark</th>\n",
       "      <th>QuestionMark</th>\n",
       "    </tr>\n",
       "  </thead>\n",
       "  <tbody>\n",
       "    <tr>\n",
       "      <th>0</th>\n",
       "      <td>go until point crazy.. available only in great...</td>\n",
       "      <td>0</td>\n",
       "      <td>0</td>\n",
       "    </tr>\n",
       "    <tr>\n",
       "      <th>1</th>\n",
       "      <td>... joking ...</td>\n",
       "      <td>0</td>\n",
       "      <td>0</td>\n",
       "    </tr>\n",
       "    <tr>\n",
       "      <th>2</th>\n",
       "      <td>free entry in a wkly comp to win fa cup final ...</td>\n",
       "      <td>0</td>\n",
       "      <td>0</td>\n",
       "    </tr>\n",
       "    <tr>\n",
       "      <th>3</th>\n",
       "      <td>dun say so early ... already then say ...</td>\n",
       "      <td>0</td>\n",
       "      <td>0</td>\n",
       "    </tr>\n",
       "    <tr>\n",
       "      <th>4</th>\n",
       "      <td>nah i do think he goes to he lives around here...</td>\n",
       "      <td>0</td>\n",
       "      <td>0</td>\n",
       "    </tr>\n",
       "    <tr>\n",
       "      <th>5</th>\n",
       "      <td>hey there darling it been week now and no word...</td>\n",
       "      <td>1</td>\n",
       "      <td>1</td>\n",
       "    </tr>\n",
       "    <tr>\n",
       "      <th>6</th>\n",
       "      <td>even my brother is not like to speak with me t...</td>\n",
       "      <td>0</td>\n",
       "      <td>0</td>\n",
       "    </tr>\n",
       "    <tr>\n",
       "      <th>7</th>\n",
       "      <td>as per your request has been set as your for a...</td>\n",
       "      <td>0</td>\n",
       "      <td>0</td>\n",
       "    </tr>\n",
       "    <tr>\n",
       "      <th>8</th>\n",
       "      <td>winner as a valued network customer you have b...</td>\n",
       "      <td>1</td>\n",
       "      <td>0</td>\n",
       "    </tr>\n",
       "    <tr>\n",
       "      <th>9</th>\n",
       "      <td>had your mobile 11 months or more entitled to ...</td>\n",
       "      <td>1</td>\n",
       "      <td>1</td>\n",
       "    </tr>\n",
       "    <tr>\n",
       "      <th>10</th>\n",
       "      <td>i be home soon and i do want to talk about thi...</td>\n",
       "      <td>0</td>\n",
       "      <td>1</td>\n",
       "    </tr>\n",
       "    <tr>\n",
       "      <th>11</th>\n",
       "      <td>six chances to win cash from 100 to 20,000 pou...</td>\n",
       "      <td>1</td>\n",
       "      <td>0</td>\n",
       "    </tr>\n",
       "    <tr>\n",
       "      <th>12</th>\n",
       "      <td>urgent you have won a week free membership in ...</td>\n",
       "      <td>1</td>\n",
       "      <td>0</td>\n",
       "    </tr>\n",
       "    <tr>\n",
       "      <th>13</th>\n",
       "      <td>i been searching for the right words to thank ...</td>\n",
       "      <td>0</td>\n",
       "      <td>0</td>\n",
       "    </tr>\n",
       "    <tr>\n",
       "      <th>14</th>\n",
       "      <td>i have a date on with will</td>\n",
       "      <td>1</td>\n",
       "      <td>0</td>\n",
       "    </tr>\n",
       "    <tr>\n",
       "      <th>15</th>\n",
       "      <td>to use your credit click the link in the next ...</td>\n",
       "      <td>0</td>\n",
       "      <td>1</td>\n",
       "    </tr>\n",
       "    <tr>\n",
       "      <th>16</th>\n",
       "      <td>oh ... i watching here</td>\n",
       "      <td>0</td>\n",
       "      <td>0</td>\n",
       "    </tr>\n",
       "    <tr>\n",
       "      <th>17</th>\n",
       "      <td>eh remember how spell his name ... yes i did h...</td>\n",
       "      <td>0</td>\n",
       "      <td>0</td>\n",
       "    </tr>\n",
       "    <tr>\n",
       "      <th>18</th>\n",
       "      <td>fine if the way feel the way its</td>\n",
       "      <td>0</td>\n",
       "      <td>0</td>\n",
       "    </tr>\n",
       "    <tr>\n",
       "      <th>19</th>\n",
       "      <td>miss the news national team to 87077 to 87077 ...</td>\n",
       "      <td>0</td>\n",
       "      <td>0</td>\n",
       "    </tr>\n",
       "  </tbody>\n",
       "</table>\n",
       "</div>"
      ],
      "text/plain": [
       "                                                 Text  ExclamationMark  \\\n",
       "0   go until point crazy.. available only in great...                0   \n",
       "1                                      ... joking ...                0   \n",
       "2   free entry in a wkly comp to win fa cup final ...                0   \n",
       "3           dun say so early ... already then say ...                0   \n",
       "4   nah i do think he goes to he lives around here...                0   \n",
       "5   hey there darling it been week now and no word...                1   \n",
       "6   even my brother is not like to speak with me t...                0   \n",
       "7   as per your request has been set as your for a...                0   \n",
       "8   winner as a valued network customer you have b...                1   \n",
       "9   had your mobile 11 months or more entitled to ...                1   \n",
       "10  i be home soon and i do want to talk about thi...                0   \n",
       "11  six chances to win cash from 100 to 20,000 pou...                1   \n",
       "12  urgent you have won a week free membership in ...                1   \n",
       "13  i been searching for the right words to thank ...                0   \n",
       "14                         i have a date on with will                1   \n",
       "15  to use your credit click the link in the next ...                0   \n",
       "16                             oh ... i watching here                0   \n",
       "17  eh remember how spell his name ... yes i did h...                0   \n",
       "18                   fine if the way feel the way its                0   \n",
       "19  miss the news national team to 87077 to 87077 ...                0   \n",
       "\n",
       "    QuestionMark  \n",
       "0              0  \n",
       "1              0  \n",
       "2              0  \n",
       "3              0  \n",
       "4              0  \n",
       "5              1  \n",
       "6              0  \n",
       "7              0  \n",
       "8              0  \n",
       "9              1  \n",
       "10             1  \n",
       "11             0  \n",
       "12             0  \n",
       "13             0  \n",
       "14             0  \n",
       "15             1  \n",
       "16             0  \n",
       "17             0  \n",
       "18             0  \n",
       "19             0  "
      ]
     },
     "execution_count": 24,
     "metadata": {},
     "output_type": "execute_result"
    }
   ],
   "source": [
    "#Looking at our data, where the text is only valid English\n",
    "data = [(cleanedText[i], exclaimMark[i], questionMark[i]) for i in range(len(cleanedText))]\n",
    "unsplitDf = pd.DataFrame(data, columns = ['Text', 'ExclamationMark', 'QuestionMark'])\n",
    "unsplitDf.head(20)"
   ]
  },
  {
   "cell_type": "code",
   "execution_count": 25,
   "metadata": {
    "scrolled": true
   },
   "outputs": [
    {
     "data": {
      "text/html": [
       "<div>\n",
       "<style scoped>\n",
       "    .dataframe tbody tr th:only-of-type {\n",
       "        vertical-align: middle;\n",
       "    }\n",
       "\n",
       "    .dataframe tbody tr th {\n",
       "        vertical-align: top;\n",
       "    }\n",
       "\n",
       "    .dataframe thead th {\n",
       "        text-align: right;\n",
       "    }\n",
       "</style>\n",
       "<table border=\"1\" class=\"dataframe\">\n",
       "  <thead>\n",
       "    <tr style=\"text-align: right;\">\n",
       "      <th></th>\n",
       "      <th>00</th>\n",
       "      <th>000</th>\n",
       "      <th>008704050406</th>\n",
       "      <th>0089</th>\n",
       "      <th>0121</th>\n",
       "      <th>01223585236</th>\n",
       "      <th>01223585334</th>\n",
       "      <th>0125698789</th>\n",
       "      <th>02</th>\n",
       "      <th>0207</th>\n",
       "      <th>...</th>\n",
       "      <th>yr</th>\n",
       "      <th>yrs</th>\n",
       "      <th>yummy</th>\n",
       "      <th>yup</th>\n",
       "      <th>zebra</th>\n",
       "      <th>zed</th>\n",
       "      <th>zeros</th>\n",
       "      <th>zoom</th>\n",
       "      <th>Exclamation</th>\n",
       "      <th>Question</th>\n",
       "    </tr>\n",
       "  </thead>\n",
       "  <tbody>\n",
       "    <tr>\n",
       "      <th>0</th>\n",
       "      <td>0</td>\n",
       "      <td>0</td>\n",
       "      <td>0</td>\n",
       "      <td>0</td>\n",
       "      <td>0</td>\n",
       "      <td>0</td>\n",
       "      <td>0</td>\n",
       "      <td>0</td>\n",
       "      <td>0</td>\n",
       "      <td>0</td>\n",
       "      <td>...</td>\n",
       "      <td>0</td>\n",
       "      <td>0</td>\n",
       "      <td>0</td>\n",
       "      <td>0</td>\n",
       "      <td>0</td>\n",
       "      <td>0</td>\n",
       "      <td>0</td>\n",
       "      <td>0</td>\n",
       "      <td>0</td>\n",
       "      <td>0</td>\n",
       "    </tr>\n",
       "    <tr>\n",
       "      <th>1</th>\n",
       "      <td>0</td>\n",
       "      <td>0</td>\n",
       "      <td>0</td>\n",
       "      <td>0</td>\n",
       "      <td>0</td>\n",
       "      <td>0</td>\n",
       "      <td>0</td>\n",
       "      <td>0</td>\n",
       "      <td>0</td>\n",
       "      <td>0</td>\n",
       "      <td>...</td>\n",
       "      <td>0</td>\n",
       "      <td>0</td>\n",
       "      <td>0</td>\n",
       "      <td>0</td>\n",
       "      <td>0</td>\n",
       "      <td>0</td>\n",
       "      <td>0</td>\n",
       "      <td>0</td>\n",
       "      <td>0</td>\n",
       "      <td>0</td>\n",
       "    </tr>\n",
       "    <tr>\n",
       "      <th>2</th>\n",
       "      <td>0</td>\n",
       "      <td>0</td>\n",
       "      <td>0</td>\n",
       "      <td>0</td>\n",
       "      <td>0</td>\n",
       "      <td>0</td>\n",
       "      <td>0</td>\n",
       "      <td>0</td>\n",
       "      <td>0</td>\n",
       "      <td>0</td>\n",
       "      <td>...</td>\n",
       "      <td>0</td>\n",
       "      <td>0</td>\n",
       "      <td>0</td>\n",
       "      <td>0</td>\n",
       "      <td>0</td>\n",
       "      <td>0</td>\n",
       "      <td>0</td>\n",
       "      <td>0</td>\n",
       "      <td>0</td>\n",
       "      <td>0</td>\n",
       "    </tr>\n",
       "    <tr>\n",
       "      <th>3</th>\n",
       "      <td>0</td>\n",
       "      <td>0</td>\n",
       "      <td>0</td>\n",
       "      <td>0</td>\n",
       "      <td>0</td>\n",
       "      <td>0</td>\n",
       "      <td>0</td>\n",
       "      <td>0</td>\n",
       "      <td>0</td>\n",
       "      <td>0</td>\n",
       "      <td>...</td>\n",
       "      <td>0</td>\n",
       "      <td>0</td>\n",
       "      <td>0</td>\n",
       "      <td>0</td>\n",
       "      <td>0</td>\n",
       "      <td>0</td>\n",
       "      <td>0</td>\n",
       "      <td>0</td>\n",
       "      <td>0</td>\n",
       "      <td>0</td>\n",
       "    </tr>\n",
       "    <tr>\n",
       "      <th>4</th>\n",
       "      <td>0</td>\n",
       "      <td>0</td>\n",
       "      <td>0</td>\n",
       "      <td>0</td>\n",
       "      <td>0</td>\n",
       "      <td>0</td>\n",
       "      <td>0</td>\n",
       "      <td>0</td>\n",
       "      <td>0</td>\n",
       "      <td>0</td>\n",
       "      <td>...</td>\n",
       "      <td>0</td>\n",
       "      <td>0</td>\n",
       "      <td>0</td>\n",
       "      <td>0</td>\n",
       "      <td>0</td>\n",
       "      <td>0</td>\n",
       "      <td>0</td>\n",
       "      <td>0</td>\n",
       "      <td>0</td>\n",
       "      <td>0</td>\n",
       "    </tr>\n",
       "    <tr>\n",
       "      <th>5</th>\n",
       "      <td>0</td>\n",
       "      <td>0</td>\n",
       "      <td>0</td>\n",
       "      <td>0</td>\n",
       "      <td>0</td>\n",
       "      <td>0</td>\n",
       "      <td>0</td>\n",
       "      <td>0</td>\n",
       "      <td>0</td>\n",
       "      <td>0</td>\n",
       "      <td>...</td>\n",
       "      <td>0</td>\n",
       "      <td>0</td>\n",
       "      <td>0</td>\n",
       "      <td>0</td>\n",
       "      <td>0</td>\n",
       "      <td>0</td>\n",
       "      <td>0</td>\n",
       "      <td>0</td>\n",
       "      <td>1</td>\n",
       "      <td>1</td>\n",
       "    </tr>\n",
       "    <tr>\n",
       "      <th>6</th>\n",
       "      <td>0</td>\n",
       "      <td>0</td>\n",
       "      <td>0</td>\n",
       "      <td>0</td>\n",
       "      <td>0</td>\n",
       "      <td>0</td>\n",
       "      <td>0</td>\n",
       "      <td>0</td>\n",
       "      <td>0</td>\n",
       "      <td>0</td>\n",
       "      <td>...</td>\n",
       "      <td>0</td>\n",
       "      <td>0</td>\n",
       "      <td>0</td>\n",
       "      <td>0</td>\n",
       "      <td>0</td>\n",
       "      <td>0</td>\n",
       "      <td>0</td>\n",
       "      <td>0</td>\n",
       "      <td>0</td>\n",
       "      <td>0</td>\n",
       "    </tr>\n",
       "    <tr>\n",
       "      <th>7</th>\n",
       "      <td>0</td>\n",
       "      <td>0</td>\n",
       "      <td>0</td>\n",
       "      <td>0</td>\n",
       "      <td>0</td>\n",
       "      <td>0</td>\n",
       "      <td>0</td>\n",
       "      <td>0</td>\n",
       "      <td>0</td>\n",
       "      <td>0</td>\n",
       "      <td>...</td>\n",
       "      <td>0</td>\n",
       "      <td>0</td>\n",
       "      <td>0</td>\n",
       "      <td>0</td>\n",
       "      <td>0</td>\n",
       "      <td>0</td>\n",
       "      <td>0</td>\n",
       "      <td>0</td>\n",
       "      <td>0</td>\n",
       "      <td>0</td>\n",
       "    </tr>\n",
       "    <tr>\n",
       "      <th>8</th>\n",
       "      <td>0</td>\n",
       "      <td>0</td>\n",
       "      <td>0</td>\n",
       "      <td>0</td>\n",
       "      <td>0</td>\n",
       "      <td>0</td>\n",
       "      <td>0</td>\n",
       "      <td>0</td>\n",
       "      <td>0</td>\n",
       "      <td>0</td>\n",
       "      <td>...</td>\n",
       "      <td>0</td>\n",
       "      <td>0</td>\n",
       "      <td>0</td>\n",
       "      <td>0</td>\n",
       "      <td>0</td>\n",
       "      <td>0</td>\n",
       "      <td>0</td>\n",
       "      <td>0</td>\n",
       "      <td>1</td>\n",
       "      <td>0</td>\n",
       "    </tr>\n",
       "    <tr>\n",
       "      <th>9</th>\n",
       "      <td>0</td>\n",
       "      <td>0</td>\n",
       "      <td>0</td>\n",
       "      <td>0</td>\n",
       "      <td>0</td>\n",
       "      <td>0</td>\n",
       "      <td>0</td>\n",
       "      <td>0</td>\n",
       "      <td>0</td>\n",
       "      <td>0</td>\n",
       "      <td>...</td>\n",
       "      <td>0</td>\n",
       "      <td>0</td>\n",
       "      <td>0</td>\n",
       "      <td>0</td>\n",
       "      <td>0</td>\n",
       "      <td>0</td>\n",
       "      <td>0</td>\n",
       "      <td>0</td>\n",
       "      <td>1</td>\n",
       "      <td>1</td>\n",
       "    </tr>\n",
       "  </tbody>\n",
       "</table>\n",
       "<p>10 rows × 5262 columns</p>\n",
       "</div>"
      ],
      "text/plain": [
       "   00  000  008704050406  0089  0121  01223585236  01223585334  0125698789  \\\n",
       "0   0    0             0     0     0            0            0           0   \n",
       "1   0    0             0     0     0            0            0           0   \n",
       "2   0    0             0     0     0            0            0           0   \n",
       "3   0    0             0     0     0            0            0           0   \n",
       "4   0    0             0     0     0            0            0           0   \n",
       "5   0    0             0     0     0            0            0           0   \n",
       "6   0    0             0     0     0            0            0           0   \n",
       "7   0    0             0     0     0            0            0           0   \n",
       "8   0    0             0     0     0            0            0           0   \n",
       "9   0    0             0     0     0            0            0           0   \n",
       "\n",
       "   02  0207  ...  yr  yrs  yummy  yup  zebra  zed  zeros  zoom  Exclamation  \\\n",
       "0   0     0  ...   0    0      0    0      0    0      0     0            0   \n",
       "1   0     0  ...   0    0      0    0      0    0      0     0            0   \n",
       "2   0     0  ...   0    0      0    0      0    0      0     0            0   \n",
       "3   0     0  ...   0    0      0    0      0    0      0     0            0   \n",
       "4   0     0  ...   0    0      0    0      0    0      0     0            0   \n",
       "5   0     0  ...   0    0      0    0      0    0      0     0            1   \n",
       "6   0     0  ...   0    0      0    0      0    0      0     0            0   \n",
       "7   0     0  ...   0    0      0    0      0    0      0     0            0   \n",
       "8   0     0  ...   0    0      0    0      0    0      0     0            1   \n",
       "9   0     0  ...   0    0      0    0      0    0      0     0            1   \n",
       "\n",
       "   Question  \n",
       "0         0  \n",
       "1         0  \n",
       "2         0  \n",
       "3         0  \n",
       "4         0  \n",
       "5         1  \n",
       "6         0  \n",
       "7         0  \n",
       "8         0  \n",
       "9         1  \n",
       "\n",
       "[10 rows x 5262 columns]"
      ]
     },
     "execution_count": 25,
     "metadata": {},
     "output_type": "execute_result"
    }
   ],
   "source": [
    "#Looking at our data, when the text is tokenized with frequency counts\n",
    "dictionaryDf.head(10)"
   ]
  },
  {
   "cell_type": "markdown",
   "metadata": {},
   "source": [
    "## Now, lets re-run our tests"
   ]
  },
  {
   "cell_type": "code",
   "execution_count": 26,
   "metadata": {},
   "outputs": [],
   "source": [
    "xTrain, xTest, yTrain, yTest = train_test_split(dictMatrix, resultList, test_size=.3, random_state=123)"
   ]
  },
  {
   "cell_type": "markdown",
   "metadata": {},
   "source": [
    "## MultinomialNB"
   ]
  },
  {
   "cell_type": "code",
   "execution_count": 27,
   "metadata": {},
   "outputs": [
    {
     "data": {
      "text/plain": [
       "97.66746411483254"
      ]
     },
     "execution_count": 27,
     "metadata": {},
     "output_type": "execute_result"
    }
   ],
   "source": [
    "mnb = MultinomialNB()\n",
    "mnb.fit(xTrain, yTrain)\n",
    "accuracy_score(yTest, mnb.predict(xTest))*100"
   ]
  },
  {
   "cell_type": "markdown",
   "metadata": {},
   "source": [
    "## Logistic Regression"
   ]
  },
  {
   "cell_type": "code",
   "execution_count": 28,
   "metadata": {},
   "outputs": [
    {
     "name": "stderr",
     "output_type": "stream",
     "text": [
      "/home/samsuri/anaconda3/lib/python3.7/site-packages/sklearn/linear_model/logistic.py:432: FutureWarning: Default solver will be changed to 'lbfgs' in 0.22. Specify a solver to silence this warning.\n",
      "  FutureWarning)\n"
     ]
    },
    {
     "data": {
      "text/plain": [
       "98.02631578947368"
      ]
     },
     "execution_count": 28,
     "metadata": {},
     "output_type": "execute_result"
    }
   ],
   "source": [
    "lr = LogisticRegression()\n",
    "lr.fit(xTrain, yTrain)\n",
    "accuracy_score(yTest, lr.predict(xTest))*100"
   ]
  },
  {
   "cell_type": "markdown",
   "metadata": {},
   "source": [
    "## Non-English words are important\n",
    "Our accuracy actually went down, for MultinomialNB, by .478%, and for Logistic Regression, by .24%. That means we eliminated some key columns when filtering out non-valid English words. "
   ]
  },
  {
   "cell_type": "markdown",
   "metadata": {},
   "source": [
    "# Going back to the second PCA analysis, what if we only include keywords that are of interest?\n",
    "Lets see the accuracy of our Machine Learning algorithms if we only include boolean results on whether the words and punctiation, 'Free', 'Win', 'Interested', 'Buy', '$', 'Offer', '!', '?', are present or not. Instead of using Multinomial Naive Bayes, we will be using Bernoulli Naive Bayes, as that is better suited for binary features"
   ]
  },
  {
   "cell_type": "code",
   "execution_count": 29,
   "metadata": {},
   "outputs": [],
   "source": [
    "resultList = df['classification']\n",
    "xTrain, xTest, yTrain, yTest = train_test_split(keyWordDf, resultList, test_size=.3, random_state=123)"
   ]
  },
  {
   "cell_type": "code",
   "execution_count": 30,
   "metadata": {},
   "outputs": [
    {
     "data": {
      "text/plain": [
       "90.13157894736842"
      ]
     },
     "execution_count": 30,
     "metadata": {},
     "output_type": "execute_result"
    }
   ],
   "source": [
    "bnb = BernoulliNB()\n",
    "bnb.fit(xTrain, yTrain)\n",
    "accuracy_score(yTest, bnb.predict(xTest))*100"
   ]
  },
  {
   "cell_type": "code",
   "execution_count": 31,
   "metadata": {},
   "outputs": [
    {
     "name": "stderr",
     "output_type": "stream",
     "text": [
      "/home/samsuri/anaconda3/lib/python3.7/site-packages/sklearn/linear_model/logistic.py:432: FutureWarning: Default solver will be changed to 'lbfgs' in 0.22. Specify a solver to silence this warning.\n",
      "  FutureWarning)\n"
     ]
    },
    {
     "data": {
      "text/plain": [
       "89.71291866028707"
      ]
     },
     "execution_count": 31,
     "metadata": {},
     "output_type": "execute_result"
    }
   ],
   "source": [
    "lr = LogisticRegression()\n",
    "lr.fit(xTrain, yTrain)\n",
    "accuracy_score(yTest, lr.predict(xTest))*100"
   ]
  },
  {
   "cell_type": "markdown",
   "metadata": {},
   "source": [
    "It seems that though the key words and punctuation we included do account for more variability than many other words, they still do not account for enough to make provide higher accuracy then when training on the full data set"
   ]
  }
 ],
 "metadata": {
  "celltoolbar": "Raw Cell Format",
  "kernelspec": {
   "display_name": "Python 3",
   "language": "python",
   "name": "python3"
  },
  "language_info": {
   "codemirror_mode": {
    "name": "ipython",
    "version": 3
   },
   "file_extension": ".py",
   "mimetype": "text/x-python",
   "name": "python",
   "nbconvert_exporter": "python",
   "pygments_lexer": "ipython3",
   "version": "3.7.3"
  }
 },
 "nbformat": 4,
 "nbformat_minor": 2
}
