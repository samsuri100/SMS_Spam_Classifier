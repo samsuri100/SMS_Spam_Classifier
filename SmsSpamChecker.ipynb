{
 "cells": [
  {
   "cell_type": "code",
   "execution_count": 1,
   "metadata": {},
   "outputs": [],
   "source": [
    "import enchant\n",
    "import numpy as np\n",
    "import pandas as pd\n",
    "\n",
    "from nltk.tokenize import word_tokenize\n",
    "from sklearn.feature_extraction.text import CountVectorizer\n",
    "from sklearn.feature_extraction.text import TfidfVectorizer\n",
    "\n",
    "from sklearn.naive_bayes import MultinomialNB\n",
    "from sklearn.linear_model import LogisticRegression\n",
    "from sklearn.svm import SVC\n",
    "\n",
    "from sklearn.metrics import accuracy_score\n",
    "from sklearn.model_selection import train_test_split\n",
    "\n",
    "from matplotlib import pyplot as plt\n",
    "from sklearn.preprocessing import StandardScaler\n",
    "from sklearn.decomposition import PCA"
   ]
  },
  {
   "cell_type": "markdown",
   "metadata": {},
   "source": [
    "# What are we loading into memory and working with?\n",
    "\n",
    "We are working with a dataset that is analyzing whether a given SMS text message is spam, denoted 'spam', or not, denoted 'ham'. The text, and the classification, are the only two file attributes.\n",
    "\n",
    "Lets load the dataset into memory, and take a look at it."
   ]
  },
  {
   "cell_type": "code",
   "execution_count": 2,
   "metadata": {},
   "outputs": [],
   "source": [
    "#Reading in 'Spam SMS' dataset into memory\n",
    "spamPath = '/home/samsuri/DataSets/SmsSpam/spam.csv'\n",
    "#Latin encoding must be used, invalid encoding for utf-8\n",
    "df = pd.read_csv(spamPath, encoding=\"latin\", usecols=[0,1], names=['classification', 'text'], skiprows=1)\n",
    "#Lowercasing all text in 'text' column\n",
    "df['text'] = df['text'].str.lower()"
   ]
  },
  {
   "cell_type": "code",
   "execution_count": 3,
   "metadata": {},
   "outputs": [
    {
     "data": {
      "text/html": [
       "<div>\n",
       "<style scoped>\n",
       "    .dataframe tbody tr th:only-of-type {\n",
       "        vertical-align: middle;\n",
       "    }\n",
       "\n",
       "    .dataframe tbody tr th {\n",
       "        vertical-align: top;\n",
       "    }\n",
       "\n",
       "    .dataframe thead th {\n",
       "        text-align: right;\n",
       "    }\n",
       "</style>\n",
       "<table border=\"1\" class=\"dataframe\">\n",
       "  <thead>\n",
       "    <tr style=\"text-align: right;\">\n",
       "      <th></th>\n",
       "      <th>classification</th>\n",
       "      <th>text</th>\n",
       "    </tr>\n",
       "  </thead>\n",
       "  <tbody>\n",
       "    <tr>\n",
       "      <th>0</th>\n",
       "      <td>ham</td>\n",
       "      <td>go until jurong point, crazy.. available only ...</td>\n",
       "    </tr>\n",
       "    <tr>\n",
       "      <th>1</th>\n",
       "      <td>ham</td>\n",
       "      <td>ok lar... joking wif u oni...</td>\n",
       "    </tr>\n",
       "    <tr>\n",
       "      <th>2</th>\n",
       "      <td>spam</td>\n",
       "      <td>free entry in 2 a wkly comp to win fa cup fina...</td>\n",
       "    </tr>\n",
       "    <tr>\n",
       "      <th>3</th>\n",
       "      <td>ham</td>\n",
       "      <td>u dun say so early hor... u c already then say...</td>\n",
       "    </tr>\n",
       "    <tr>\n",
       "      <th>4</th>\n",
       "      <td>ham</td>\n",
       "      <td>nah i don't think he goes to usf, he lives aro...</td>\n",
       "    </tr>\n",
       "    <tr>\n",
       "      <th>5</th>\n",
       "      <td>spam</td>\n",
       "      <td>freemsg hey there darling it's been 3 week's n...</td>\n",
       "    </tr>\n",
       "    <tr>\n",
       "      <th>6</th>\n",
       "      <td>ham</td>\n",
       "      <td>even my brother is not like to speak with me. ...</td>\n",
       "    </tr>\n",
       "    <tr>\n",
       "      <th>7</th>\n",
       "      <td>ham</td>\n",
       "      <td>as per your request 'melle melle (oru minnamin...</td>\n",
       "    </tr>\n",
       "    <tr>\n",
       "      <th>8</th>\n",
       "      <td>spam</td>\n",
       "      <td>winner!! as a valued network customer you have...</td>\n",
       "    </tr>\n",
       "    <tr>\n",
       "      <th>9</th>\n",
       "      <td>spam</td>\n",
       "      <td>had your mobile 11 months or more? u r entitle...</td>\n",
       "    </tr>\n",
       "  </tbody>\n",
       "</table>\n",
       "</div>"
      ],
      "text/plain": [
       "  classification                                               text\n",
       "0            ham  go until jurong point, crazy.. available only ...\n",
       "1            ham                      ok lar... joking wif u oni...\n",
       "2           spam  free entry in 2 a wkly comp to win fa cup fina...\n",
       "3            ham  u dun say so early hor... u c already then say...\n",
       "4            ham  nah i don't think he goes to usf, he lives aro...\n",
       "5           spam  freemsg hey there darling it's been 3 week's n...\n",
       "6            ham  even my brother is not like to speak with me. ...\n",
       "7            ham  as per your request 'melle melle (oru minnamin...\n",
       "8           spam  winner!! as a valued network customer you have...\n",
       "9           spam  had your mobile 11 months or more? u r entitle..."
      ]
     },
     "execution_count": 3,
     "metadata": {},
     "output_type": "execute_result"
    }
   ],
   "source": [
    "#Looking at our data\n",
    "df.head(10)"
   ]
  },
  {
   "cell_type": "markdown",
   "metadata": {},
   "source": [
    "# Lets see how some common algorithms perform?\n",
    "\n",
    "Lets first investigate the performance of some common algorithms:\n",
    "- MultinomialNB\n",
    "- Logistic Regression\n",
    "- Support Vector Machine\n",
    "- Random Forest\n",
    "\n",
    "Given that we are doing binary classification, logistic regression, should be included. For all algorithms, the text will tokenized into words, using a bag-of-words approach."
   ]
  },
  {
   "cell_type": "code",
   "execution_count": 4,
   "metadata": {},
   "outputs": [],
   "source": [
    "#List of all SMS texts\n",
    "documentList = df['text']\n",
    "vect = CountVectorizer()\n",
    "#Frequency count matrix of all words in SMS texts\n",
    "countMatrix = vect.fit_transform(documentList)\n",
    "tokenizedDf = pd.DataFrame(countMatrix.toarray(), columns=vect.get_feature_names())\n",
    "\n",
    "#Encoding SMS texts for ML algorithms\n",
    "resultEncodingDict = {'ham': 1, 'spam': 0}\n",
    "resultList = df['classification']\n",
    "resultList.replace(resultEncodingDict, inplace=True)\n",
    "xTrain, xTest, yTrain, yTest = train_test_split(tokenizedDf, resultList, test_size=.3, random_state=123)"
   ]
  },
  {
   "cell_type": "markdown",
   "metadata": {},
   "source": [
    "### MultinomialNB"
   ]
  },
  {
   "cell_type": "code",
   "execution_count": 5,
   "metadata": {},
   "outputs": [
    {
     "data": {
      "text/plain": [
       "98.14593301435407"
      ]
     },
     "execution_count": 5,
     "metadata": {},
     "output_type": "execute_result"
    }
   ],
   "source": [
    "mnb = MultinomialNB()\n",
    "mnb.fit(xTrain, yTrain)\n",
    "accuracy_score(yTest, mnb.predict(xTest))*100"
   ]
  },
  {
   "cell_type": "markdown",
   "metadata": {},
   "source": [
    "### Logistic Regression"
   ]
  },
  {
   "cell_type": "code",
   "execution_count": 6,
   "metadata": {},
   "outputs": [
    {
     "name": "stderr",
     "output_type": "stream",
     "text": [
      "/home/samsuri/anaconda3/lib/python3.7/site-packages/sklearn/linear_model/logistic.py:432: FutureWarning: Default solver will be changed to 'lbfgs' in 0.22. Specify a solver to silence this warning.\n",
      "  FutureWarning)\n"
     ]
    },
    {
     "data": {
      "text/plain": [
       "98.26555023923444"
      ]
     },
     "execution_count": 6,
     "metadata": {},
     "output_type": "execute_result"
    }
   ],
   "source": [
    "lr = LogisticRegression()\n",
    "lr.fit(xTrain, yTrain)\n",
    "accuracy_score(yTest, lr.predict(xTest))*100"
   ]
  },
  {
   "cell_type": "markdown",
   "metadata": {},
   "source": [
    "### Support Vector Machine"
   ]
  },
  {
   "cell_type": "code",
   "execution_count": 7,
   "metadata": {},
   "outputs": [
    {
     "data": {
      "text/plain": [
       "87.14114832535886"
      ]
     },
     "execution_count": 7,
     "metadata": {},
     "output_type": "execute_result"
    }
   ],
   "source": [
    "svc = SVC(gamma='auto')\n",
    "svc.fit(xTrain, yTrain)\n",
    "accuracy_score(yTest, svc.predict(xTest))*100"
   ]
  },
  {
   "cell_type": "markdown",
   "metadata": {},
   "source": [
    "## Preliminary Results\n",
    "\n",
    "Clearly, MultinomialNB and Logistic Regression did the best, whereas SVC did the worst. This is most likely because though the data is in a very high dimension, given that the number of columns is established over the entire vocabulary of the 'text' column, it not not easily seperatable, regardless of the kernal used.\n",
    "\n",
    "Also, because an optimum soft margin had to be found, SVC was the slowest of the methods.\n",
    "\n",
    "MultinomialNB did very well considering its speed and simplicity. It was particularly well suited for the bag-of-words technique on the text data."
   ]
  },
  {
   "cell_type": "markdown",
   "metadata": {},
   "source": [
    "# Can we do better?\n",
    "## Lets Strip out words that are not valid English\n",
    "Our best result was 98.27% accuracy by using logistic regression. Can we do better? By striping out words that are not valid English, such as numbers, slang, and giberish, we can isolate words that ideally we derive more meaning from.\n",
    "\n",
    "For example, the word 'free' might be significant, though its weight is diluted when there are many other words. Lets see the effect of only including valid English words..."
   ]
  },
  {
   "cell_type": "code",
   "execution_count": 126,
   "metadata": {},
   "outputs": [],
   "source": [
    "#Establishing a set of all valid words in the English dictionary\n",
    "dictionary = enchant.Dict('en_US')\n",
    "\n",
    "#New dataframe will have only valid English words\n",
    "#along with bools to represent '!' and '?' being present or not \n",
    "exclaimMark = []\n",
    "questionMark = []\n",
    "cleanedText = []\n",
    "for index, row in df.iterrows():\n",
    "    tempList = []\n",
    "    #Tokenizing text in each row of dataframe\n",
    "    tokenList = word_tokenize(row['text'])\n",
    "    \n",
    "    exclaimBool = 0\n",
    "    questionBool = 0\n",
    "    for possibleWord in tokenList:\n",
    "        #Seeing if '!' is present\n",
    "        if possibleWord == '!':\n",
    "            exclaimBool = 1\n",
    "        #Seeing if '?' is present\n",
    "        elif possibleWord == '?':\n",
    "            questionBool = 1\n",
    "        #Seeing if each words in SMS text is in NTLK dictionary\n",
    "        elif dictionary.check(possibleWord) == True:\n",
    "            if (len(possibleWord) == 1) and (possibleWord not in ['a', 'A', 'i', 'I']):\n",
    "                continue\n",
    "            else:\n",
    "                tempList.append(possibleWord)\n",
    "    \n",
    "    exclaimMark.append(exclaimBool)\n",
    "    questionMark.append(questionBool)\n",
    "    cleanedText.append(' '.join(tempList))"
   ]
  },
  {
   "cell_type": "code",
   "execution_count": 127,
   "metadata": {},
   "outputs": [],
   "source": [
    "#Rebuilding frequency count matrix for SMS text\n",
    "dictVect = CountVectorizer()\n",
    "dictCountMatrix = dictVect.fit_transform(cleanedText)\n",
    "\n",
    "#Converting frequency count matrix to numpy array\n",
    "#Converting lists to numpy array\n",
    "dictCountMatrix = dictCountMatrix.toarray()\n",
    "exclaimMarkArr = np.array([exclaimMark])\n",
    "questionMarkArr = np.array([questionMark])\n",
    "\n",
    "#Concatinating numpy arrays along vertical axis\n",
    "dictMatrix = np.concatenate([dictCountMatrix, exclaimMarkArr.T, questionMarkArr.T], axis=1)\n",
    "\n",
    "#Adding new columns in order columns were concatinated\n",
    "dictColumns = dictVect.get_feature_names() + ['Exclamation'] + ['Question']\n",
    "dictionaryDf = pd.DataFrame(dictMatrix, columns=dictColumns)"
   ]
  },
  {
   "cell_type": "code",
   "execution_count": 128,
   "metadata": {},
   "outputs": [
    {
     "data": {
      "text/html": [
       "<div>\n",
       "<style scoped>\n",
       "    .dataframe tbody tr th:only-of-type {\n",
       "        vertical-align: middle;\n",
       "    }\n",
       "\n",
       "    .dataframe tbody tr th {\n",
       "        vertical-align: top;\n",
       "    }\n",
       "\n",
       "    .dataframe thead th {\n",
       "        text-align: right;\n",
       "    }\n",
       "</style>\n",
       "<table border=\"1\" class=\"dataframe\">\n",
       "  <thead>\n",
       "    <tr style=\"text-align: right;\">\n",
       "      <th></th>\n",
       "      <th>Text</th>\n",
       "      <th>ExclamationMark</th>\n",
       "      <th>QuestionMark</th>\n",
       "    </tr>\n",
       "  </thead>\n",
       "  <tbody>\n",
       "    <tr>\n",
       "      <th>0</th>\n",
       "      <td>jurong , bugis amore wat</td>\n",
       "      <td>0</td>\n",
       "      <td>0</td>\n",
       "    </tr>\n",
       "    <tr>\n",
       "      <th>1</th>\n",
       "      <td>ok lar wif oni</td>\n",
       "      <td>0</td>\n",
       "      <td>0</td>\n",
       "    </tr>\n",
       "    <tr>\n",
       "      <th>2</th>\n",
       "      <td>tkts ( txt ) &amp; 's 08452810075over18 's</td>\n",
       "      <td>0</td>\n",
       "      <td>0</td>\n",
       "    </tr>\n",
       "    <tr>\n",
       "      <th>3</th>\n",
       "      <td>hor</td>\n",
       "      <td>0</td>\n",
       "      <td>0</td>\n",
       "    </tr>\n",
       "    <tr>\n",
       "      <th>4</th>\n",
       "      <td>n't usf ,</td>\n",
       "      <td>0</td>\n",
       "      <td>0</td>\n",
       "    </tr>\n",
       "    <tr>\n",
       "      <th>5</th>\n",
       "      <td>freemsg 's 's 'd ok chgs , å£1.50 rcv</td>\n",
       "      <td>1</td>\n",
       "      <td>1</td>\n",
       "    </tr>\n",
       "    <tr>\n",
       "      <th>6</th>\n",
       "      <td></td>\n",
       "      <td>0</td>\n",
       "      <td>0</td>\n",
       "    </tr>\n",
       "    <tr>\n",
       "      <th>7</th>\n",
       "      <td>'melle melle ( oru minnaminunginte nurungu vet...</td>\n",
       "      <td>0</td>\n",
       "      <td>0</td>\n",
       "    </tr>\n",
       "    <tr>\n",
       "      <th>8</th>\n",
       "      <td>receivea å£900 kl341</td>\n",
       "      <td>1</td>\n",
       "      <td>0</td>\n",
       "    </tr>\n",
       "    <tr>\n",
       "      <th>9</th>\n",
       "      <td>colour</td>\n",
       "      <td>1</td>\n",
       "      <td>1</td>\n",
       "    </tr>\n",
       "    <tr>\n",
       "      <th>10</th>\n",
       "      <td>'m gon na n't , 've</td>\n",
       "      <td>0</td>\n",
       "      <td>1</td>\n",
       "    </tr>\n",
       "    <tr>\n",
       "      <th>11</th>\n",
       "      <td>txt &gt; csh11 150p/day , 6days , 16+ tsandcs hl</td>\n",
       "      <td>1</td>\n",
       "      <td>0</td>\n",
       "    </tr>\n",
       "    <tr>\n",
       "      <th>12</th>\n",
       "      <td>å£100,000 txt : : &amp; www.dbuk.net lccltd pobox ...</td>\n",
       "      <td>1</td>\n",
       "      <td>0</td>\n",
       "    </tr>\n",
       "    <tr>\n",
       "      <th>13</th>\n",
       "      <td>'ve fulfil</td>\n",
       "      <td>0</td>\n",
       "      <td>0</td>\n",
       "    </tr>\n",
       "    <tr>\n",
       "      <th>14</th>\n",
       "      <td>sunday</td>\n",
       "      <td>1</td>\n",
       "      <td>0</td>\n",
       "    </tr>\n",
       "    <tr>\n",
       "      <th>15</th>\n",
       "      <td>xxxmobilemovieclub : , wap txt &gt; &gt; http : //wa...</td>\n",
       "      <td>0</td>\n",
       "      <td>1</td>\n",
       "    </tr>\n",
       "    <tr>\n",
       "      <th>16</th>\n",
       "      <td>'m : )</td>\n",
       "      <td>0</td>\n",
       "      <td>0</td>\n",
       "    </tr>\n",
       "    <tr>\n",
       "      <th>17</th>\n",
       "      <td></td>\n",
       "      <td>0</td>\n",
       "      <td>0</td>\n",
       "    </tr>\n",
       "    <tr>\n",
       "      <th>18</th>\n",
       "      <td>thatåõs thatåõs gota</td>\n",
       "      <td>0</td>\n",
       "      <td>0</td>\n",
       "    </tr>\n",
       "    <tr>\n",
       "      <th>19</th>\n",
       "      <td>england macedonia - dont goals/team txt ur eg ...</td>\n",
       "      <td>0</td>\n",
       "      <td>0</td>\n",
       "    </tr>\n",
       "  </tbody>\n",
       "</table>\n",
       "</div>"
      ],
      "text/plain": [
       "                                                 Text  ExclamationMark  \\\n",
       "0                            jurong , bugis amore wat                0   \n",
       "1                                      ok lar wif oni                0   \n",
       "2              tkts ( txt ) & 's 08452810075over18 's                0   \n",
       "3                                                 hor                0   \n",
       "4                                           n't usf ,                0   \n",
       "5               freemsg 's 's 'd ok chgs , å£1.50 rcv                1   \n",
       "6                                                                    0   \n",
       "7   'melle melle ( oru minnaminunginte nurungu vet...                0   \n",
       "8                                receivea å£900 kl341                1   \n",
       "9                                              colour                1   \n",
       "10                                'm gon na n't , 've                0   \n",
       "11      txt > csh11 150p/day , 6days , 16+ tsandcs hl                1   \n",
       "12  å£100,000 txt : : & www.dbuk.net lccltd pobox ...                1   \n",
       "13                                         've fulfil                0   \n",
       "14                                             sunday                1   \n",
       "15  xxxmobilemovieclub : , wap txt > > http : //wa...                0   \n",
       "16                                             'm : )                0   \n",
       "17                                                                   0   \n",
       "18                               thatåõs thatåõs gota                0   \n",
       "19  england macedonia - dont goals/team txt ur eg ...                0   \n",
       "\n",
       "    QuestionMark  \n",
       "0              0  \n",
       "1              0  \n",
       "2              0  \n",
       "3              0  \n",
       "4              0  \n",
       "5              1  \n",
       "6              0  \n",
       "7              0  \n",
       "8              0  \n",
       "9              1  \n",
       "10             1  \n",
       "11             0  \n",
       "12             0  \n",
       "13             0  \n",
       "14             0  \n",
       "15             1  \n",
       "16             0  \n",
       "17             0  \n",
       "18             0  \n",
       "19             0  "
      ]
     },
     "execution_count": 128,
     "metadata": {},
     "output_type": "execute_result"
    }
   ],
   "source": [
    "#Looking at our data, where the text is only valid English\n",
    "data = [(cleanedText[i], exclaimMark[i], questionMark[i]) for i in range(len(cleanedText))]\n",
    "unsplitDf = pd.DataFrame(data, columns = ['Text', 'ExclamationMark', 'QuestionMark'])\n",
    "unsplitDf.head(20)"
   ]
  },
  {
   "cell_type": "code",
   "execution_count": 129,
   "metadata": {
    "scrolled": true
   },
   "outputs": [
    {
     "data": {
      "text/html": [
       "<div>\n",
       "<style scoped>\n",
       "    .dataframe tbody tr th:only-of-type {\n",
       "        vertical-align: middle;\n",
       "    }\n",
       "\n",
       "    .dataframe tbody tr th {\n",
       "        vertical-align: top;\n",
       "    }\n",
       "\n",
       "    .dataframe thead th {\n",
       "        text-align: right;\n",
       "    }\n",
       "</style>\n",
       "<table border=\"1\" class=\"dataframe\">\n",
       "  <thead>\n",
       "    <tr style=\"text-align: right;\">\n",
       "      <th></th>\n",
       "      <th>00</th>\n",
       "      <th>000</th>\n",
       "      <th>000pes</th>\n",
       "      <th>02</th>\n",
       "      <th>03</th>\n",
       "      <th>04</th>\n",
       "      <th>0430</th>\n",
       "      <th>05</th>\n",
       "      <th>06</th>\n",
       "      <th>07</th>\n",
       "      <th>...</th>\n",
       "      <th>û_thanks</th>\n",
       "      <th>ûªm</th>\n",
       "      <th>ûªt</th>\n",
       "      <th>ûªve</th>\n",
       "      <th>ûï</th>\n",
       "      <th>ûïharry</th>\n",
       "      <th>ûò</th>\n",
       "      <th>ûówell</th>\n",
       "      <th>Exclamation</th>\n",
       "      <th>Question</th>\n",
       "    </tr>\n",
       "  </thead>\n",
       "  <tbody>\n",
       "    <tr>\n",
       "      <th>0</th>\n",
       "      <td>0</td>\n",
       "      <td>0</td>\n",
       "      <td>0</td>\n",
       "      <td>0</td>\n",
       "      <td>0</td>\n",
       "      <td>0</td>\n",
       "      <td>0</td>\n",
       "      <td>0</td>\n",
       "      <td>0</td>\n",
       "      <td>0</td>\n",
       "      <td>...</td>\n",
       "      <td>0</td>\n",
       "      <td>0</td>\n",
       "      <td>0</td>\n",
       "      <td>0</td>\n",
       "      <td>0</td>\n",
       "      <td>0</td>\n",
       "      <td>0</td>\n",
       "      <td>0</td>\n",
       "      <td>0</td>\n",
       "      <td>0</td>\n",
       "    </tr>\n",
       "    <tr>\n",
       "      <th>1</th>\n",
       "      <td>0</td>\n",
       "      <td>0</td>\n",
       "      <td>0</td>\n",
       "      <td>0</td>\n",
       "      <td>0</td>\n",
       "      <td>0</td>\n",
       "      <td>0</td>\n",
       "      <td>0</td>\n",
       "      <td>0</td>\n",
       "      <td>0</td>\n",
       "      <td>...</td>\n",
       "      <td>0</td>\n",
       "      <td>0</td>\n",
       "      <td>0</td>\n",
       "      <td>0</td>\n",
       "      <td>0</td>\n",
       "      <td>0</td>\n",
       "      <td>0</td>\n",
       "      <td>0</td>\n",
       "      <td>0</td>\n",
       "      <td>0</td>\n",
       "    </tr>\n",
       "    <tr>\n",
       "      <th>2</th>\n",
       "      <td>0</td>\n",
       "      <td>0</td>\n",
       "      <td>0</td>\n",
       "      <td>0</td>\n",
       "      <td>0</td>\n",
       "      <td>0</td>\n",
       "      <td>0</td>\n",
       "      <td>0</td>\n",
       "      <td>0</td>\n",
       "      <td>0</td>\n",
       "      <td>...</td>\n",
       "      <td>0</td>\n",
       "      <td>0</td>\n",
       "      <td>0</td>\n",
       "      <td>0</td>\n",
       "      <td>0</td>\n",
       "      <td>0</td>\n",
       "      <td>0</td>\n",
       "      <td>0</td>\n",
       "      <td>0</td>\n",
       "      <td>0</td>\n",
       "    </tr>\n",
       "    <tr>\n",
       "      <th>3</th>\n",
       "      <td>0</td>\n",
       "      <td>0</td>\n",
       "      <td>0</td>\n",
       "      <td>0</td>\n",
       "      <td>0</td>\n",
       "      <td>0</td>\n",
       "      <td>0</td>\n",
       "      <td>0</td>\n",
       "      <td>0</td>\n",
       "      <td>0</td>\n",
       "      <td>...</td>\n",
       "      <td>0</td>\n",
       "      <td>0</td>\n",
       "      <td>0</td>\n",
       "      <td>0</td>\n",
       "      <td>0</td>\n",
       "      <td>0</td>\n",
       "      <td>0</td>\n",
       "      <td>0</td>\n",
       "      <td>0</td>\n",
       "      <td>0</td>\n",
       "    </tr>\n",
       "    <tr>\n",
       "      <th>4</th>\n",
       "      <td>0</td>\n",
       "      <td>0</td>\n",
       "      <td>0</td>\n",
       "      <td>0</td>\n",
       "      <td>0</td>\n",
       "      <td>0</td>\n",
       "      <td>0</td>\n",
       "      <td>0</td>\n",
       "      <td>0</td>\n",
       "      <td>0</td>\n",
       "      <td>...</td>\n",
       "      <td>0</td>\n",
       "      <td>0</td>\n",
       "      <td>0</td>\n",
       "      <td>0</td>\n",
       "      <td>0</td>\n",
       "      <td>0</td>\n",
       "      <td>0</td>\n",
       "      <td>0</td>\n",
       "      <td>0</td>\n",
       "      <td>0</td>\n",
       "    </tr>\n",
       "    <tr>\n",
       "      <th>5</th>\n",
       "      <td>0</td>\n",
       "      <td>0</td>\n",
       "      <td>0</td>\n",
       "      <td>0</td>\n",
       "      <td>0</td>\n",
       "      <td>0</td>\n",
       "      <td>0</td>\n",
       "      <td>0</td>\n",
       "      <td>0</td>\n",
       "      <td>0</td>\n",
       "      <td>...</td>\n",
       "      <td>0</td>\n",
       "      <td>0</td>\n",
       "      <td>0</td>\n",
       "      <td>0</td>\n",
       "      <td>0</td>\n",
       "      <td>0</td>\n",
       "      <td>0</td>\n",
       "      <td>0</td>\n",
       "      <td>1</td>\n",
       "      <td>1</td>\n",
       "    </tr>\n",
       "    <tr>\n",
       "      <th>6</th>\n",
       "      <td>0</td>\n",
       "      <td>0</td>\n",
       "      <td>0</td>\n",
       "      <td>0</td>\n",
       "      <td>0</td>\n",
       "      <td>0</td>\n",
       "      <td>0</td>\n",
       "      <td>0</td>\n",
       "      <td>0</td>\n",
       "      <td>0</td>\n",
       "      <td>...</td>\n",
       "      <td>0</td>\n",
       "      <td>0</td>\n",
       "      <td>0</td>\n",
       "      <td>0</td>\n",
       "      <td>0</td>\n",
       "      <td>0</td>\n",
       "      <td>0</td>\n",
       "      <td>0</td>\n",
       "      <td>0</td>\n",
       "      <td>0</td>\n",
       "    </tr>\n",
       "    <tr>\n",
       "      <th>7</th>\n",
       "      <td>0</td>\n",
       "      <td>0</td>\n",
       "      <td>0</td>\n",
       "      <td>0</td>\n",
       "      <td>0</td>\n",
       "      <td>0</td>\n",
       "      <td>0</td>\n",
       "      <td>0</td>\n",
       "      <td>0</td>\n",
       "      <td>0</td>\n",
       "      <td>...</td>\n",
       "      <td>0</td>\n",
       "      <td>0</td>\n",
       "      <td>0</td>\n",
       "      <td>0</td>\n",
       "      <td>0</td>\n",
       "      <td>0</td>\n",
       "      <td>0</td>\n",
       "      <td>0</td>\n",
       "      <td>0</td>\n",
       "      <td>0</td>\n",
       "    </tr>\n",
       "    <tr>\n",
       "      <th>8</th>\n",
       "      <td>0</td>\n",
       "      <td>0</td>\n",
       "      <td>0</td>\n",
       "      <td>0</td>\n",
       "      <td>0</td>\n",
       "      <td>0</td>\n",
       "      <td>0</td>\n",
       "      <td>0</td>\n",
       "      <td>0</td>\n",
       "      <td>0</td>\n",
       "      <td>...</td>\n",
       "      <td>0</td>\n",
       "      <td>0</td>\n",
       "      <td>0</td>\n",
       "      <td>0</td>\n",
       "      <td>0</td>\n",
       "      <td>0</td>\n",
       "      <td>0</td>\n",
       "      <td>0</td>\n",
       "      <td>1</td>\n",
       "      <td>0</td>\n",
       "    </tr>\n",
       "    <tr>\n",
       "      <th>9</th>\n",
       "      <td>0</td>\n",
       "      <td>0</td>\n",
       "      <td>0</td>\n",
       "      <td>0</td>\n",
       "      <td>0</td>\n",
       "      <td>0</td>\n",
       "      <td>0</td>\n",
       "      <td>0</td>\n",
       "      <td>0</td>\n",
       "      <td>0</td>\n",
       "      <td>...</td>\n",
       "      <td>0</td>\n",
       "      <td>0</td>\n",
       "      <td>0</td>\n",
       "      <td>0</td>\n",
       "      <td>0</td>\n",
       "      <td>0</td>\n",
       "      <td>0</td>\n",
       "      <td>0</td>\n",
       "      <td>1</td>\n",
       "      <td>1</td>\n",
       "    </tr>\n",
       "  </tbody>\n",
       "</table>\n",
       "<p>10 rows × 3926 columns</p>\n",
       "</div>"
      ],
      "text/plain": [
       "   00  000  000pes  02  03  04  0430  05  06  07  ...  û_thanks  ûªm  ûªt  \\\n",
       "0   0    0       0   0   0   0     0   0   0   0  ...         0    0    0   \n",
       "1   0    0       0   0   0   0     0   0   0   0  ...         0    0    0   \n",
       "2   0    0       0   0   0   0     0   0   0   0  ...         0    0    0   \n",
       "3   0    0       0   0   0   0     0   0   0   0  ...         0    0    0   \n",
       "4   0    0       0   0   0   0     0   0   0   0  ...         0    0    0   \n",
       "5   0    0       0   0   0   0     0   0   0   0  ...         0    0    0   \n",
       "6   0    0       0   0   0   0     0   0   0   0  ...         0    0    0   \n",
       "7   0    0       0   0   0   0     0   0   0   0  ...         0    0    0   \n",
       "8   0    0       0   0   0   0     0   0   0   0  ...         0    0    0   \n",
       "9   0    0       0   0   0   0     0   0   0   0  ...         0    0    0   \n",
       "\n",
       "   ûªve  ûï  ûïharry  ûò  ûówell  Exclamation  Question  \n",
       "0     0   0        0   0       0            0         0  \n",
       "1     0   0        0   0       0            0         0  \n",
       "2     0   0        0   0       0            0         0  \n",
       "3     0   0        0   0       0            0         0  \n",
       "4     0   0        0   0       0            0         0  \n",
       "5     0   0        0   0       0            1         1  \n",
       "6     0   0        0   0       0            0         0  \n",
       "7     0   0        0   0       0            0         0  \n",
       "8     0   0        0   0       0            1         0  \n",
       "9     0   0        0   0       0            1         1  \n",
       "\n",
       "[10 rows x 3926 columns]"
      ]
     },
     "execution_count": 129,
     "metadata": {},
     "output_type": "execute_result"
    }
   ],
   "source": [
    "#Looking at our data, when the text is tokenized with frequency counts\n",
    "dictionaryDf.head(10)"
   ]
  },
  {
   "cell_type": "markdown",
   "metadata": {},
   "source": [
    "## Now, lets re-run our tests"
   ]
  },
  {
   "cell_type": "code",
   "execution_count": 130,
   "metadata": {},
   "outputs": [],
   "source": [
    "xTrain, xTest, yTrain, yTest = train_test_split(dictMatrix, resultList, test_size=.3, random_state=123)"
   ]
  },
  {
   "cell_type": "markdown",
   "metadata": {},
   "source": [
    "## MultinomialNB"
   ]
  },
  {
   "cell_type": "code",
   "execution_count": 131,
   "metadata": {},
   "outputs": [
    {
     "data": {
      "text/plain": [
       "96.5311004784689"
      ]
     },
     "execution_count": 131,
     "metadata": {},
     "output_type": "execute_result"
    }
   ],
   "source": [
    "mnb = MultinomialNB()\n",
    "mnb.fit(xTrain, yTrain)\n",
    "accuracy_score(yTest, mnb.predict(xTest))*100"
   ]
  },
  {
   "cell_type": "markdown",
   "metadata": {},
   "source": [
    "## Logistic Regression"
   ]
  },
  {
   "cell_type": "code",
   "execution_count": 132,
   "metadata": {},
   "outputs": [
    {
     "name": "stderr",
     "output_type": "stream",
     "text": [
      "/home/samsuri/anaconda3/lib/python3.7/site-packages/sklearn/linear_model/logistic.py:432: FutureWarning: Default solver will be changed to 'lbfgs' in 0.22. Specify a solver to silence this warning.\n",
      "  FutureWarning)\n"
     ]
    },
    {
     "data": {
      "text/plain": [
       "95.51435406698565"
      ]
     },
     "execution_count": 132,
     "metadata": {},
     "output_type": "execute_result"
    }
   ],
   "source": [
    "lr = LogisticRegression()\n",
    "lr.fit(xTrain, yTrain)\n",
    "accuracy_score(yTest, lr.predict(xTest))*100"
   ]
  },
  {
   "cell_type": "markdown",
   "metadata": {},
   "source": [
    "# Lets do a Principal Component Analysis\n",
    "\n",
    "Our accuracy actually went down, for MultinomialNB, by .478%, and for Logistic Regression, by .24%. That means we eliminated some key columns when filtering out non-valid English words. Lets see if by using PCA, we can see if any columns are highly relevent..."
   ]
  },
  {
   "cell_type": "code",
   "execution_count": 119,
   "metadata": {},
   "outputs": [],
   "source": [
    "#Numpy array of frequency counts on tokenized SMS texts\n",
    "frequencyCounts = tokenizedDf.values\n",
    "#Encoded 'spam'/'ham' Series\n",
    "encodedClassication = resultList.values"
   ]
  },
  {
   "cell_type": "code",
   "execution_count": 120,
   "metadata": {},
   "outputs": [],
   "source": [
    "#Standardizing frequency count matrix\n",
    "standardizedFreqCounts = StandardScaler().fit_transform(frequencyCounts)"
   ]
  },
  {
   "cell_type": "code",
   "execution_count": 121,
   "metadata": {},
   "outputs": [],
   "source": [
    "#Only looking at PC1 and PC2\n",
    "pca = PCA(n_components=2)\n",
    "princComp = pca.fit_transform(standardizedFreqCounts)"
   ]
  },
  {
   "cell_type": "code",
   "execution_count": 122,
   "metadata": {},
   "outputs": [
    {
     "data": {
      "text/html": [
       "<div>\n",
       "<style scoped>\n",
       "    .dataframe tbody tr th:only-of-type {\n",
       "        vertical-align: middle;\n",
       "    }\n",
       "\n",
       "    .dataframe tbody tr th {\n",
       "        vertical-align: top;\n",
       "    }\n",
       "\n",
       "    .dataframe thead th {\n",
       "        text-align: right;\n",
       "    }\n",
       "</style>\n",
       "<table border=\"1\" class=\"dataframe\">\n",
       "  <thead>\n",
       "    <tr style=\"text-align: right;\">\n",
       "      <th></th>\n",
       "      <th>pc1</th>\n",
       "      <th>pc2</th>\n",
       "    </tr>\n",
       "  </thead>\n",
       "  <tbody>\n",
       "    <tr>\n",
       "      <th>0</th>\n",
       "      <td>-0.113019</td>\n",
       "      <td>-0.325890</td>\n",
       "    </tr>\n",
       "    <tr>\n",
       "      <th>1</th>\n",
       "      <td>-0.084644</td>\n",
       "      <td>-0.339417</td>\n",
       "    </tr>\n",
       "    <tr>\n",
       "      <th>2</th>\n",
       "      <td>-0.179895</td>\n",
       "      <td>-0.450165</td>\n",
       "    </tr>\n",
       "    <tr>\n",
       "      <th>3</th>\n",
       "      <td>-0.089110</td>\n",
       "      <td>-0.205986</td>\n",
       "    </tr>\n",
       "    <tr>\n",
       "      <th>4</th>\n",
       "      <td>-0.022884</td>\n",
       "      <td>0.027842</td>\n",
       "    </tr>\n",
       "  </tbody>\n",
       "</table>\n",
       "</div>"
      ],
      "text/plain": [
       "        pc1       pc2\n",
       "0 -0.113019 -0.325890\n",
       "1 -0.084644 -0.339417\n",
       "2 -0.179895 -0.450165\n",
       "3 -0.089110 -0.205986\n",
       "4 -0.022884  0.027842"
      ]
     },
     "execution_count": 122,
     "metadata": {},
     "output_type": "execute_result"
    }
   ],
   "source": [
    "#Concatinating pc1, pc2, and encoded classification array\n",
    "princDf = pd.DataFrame(princComp, columns=['pc1', 'pc2'])\n",
    "mergedPrincDf = pd.concat([princDf, pd.Series(encodedClassication, name='classification')], axis=1)\n",
    "mergedPrincDf.head()"
   ]
  },
  {
   "cell_type": "code",
   "execution_count": 133,
   "metadata": {
    "scrolled": false
   },
   "outputs": [
    {
     "data": {
      "image/png": "[encoded data removed]",
      "text/plain": [
       "<Figure size 576x576 with 1 Axes>"
      ]
     },
     "metadata": {
      "needs_background": "light"
     },
     "output_type": "display_data"
    }
   ],
   "source": [
    "#Plotting data, to get a visual representation\n",
    "fig = plt.figure(figsize = (8,8))\n",
    "ax = fig.add_subplot(1,1,1)\n",
    "#Adding x and y labels\n",
    "ax.set_xlabel('PC1', fontsize=15)\n",
    "ax.set_ylabel('PC2', fontsize=15)\n",
    "#Adding title\n",
    "ax.set_title('2-Component PCA Chart', fontsize=20)\n",
    "\n",
    "classifications = [1, 0]\n",
    "colors = ['b', 'r']\n",
    "#Plotting scatter graph\n",
    "for classification, color in zip(classifications, colors):\n",
    "    indicesToKeep = mergedPrincDf['classification'] == classification\n",
    "    ax.scatter(mergedPrincDf.loc[indicesToKeep, 'pc1'], \n",
    "               mergedPrincDf.loc[indicesToKeep, 'pc2'], \n",
    "               c=color, s=50)\n",
    "    \n",
    "ax.legend(classifications)\n",
    "ax.grid()"
   ]
  },
  {
   "cell_type": "code",
   "execution_count": 145,
   "metadata": {},
   "outputs": [
    {
     "name": "stdout",
     "output_type": "stream",
     "text": [
      "Varience explained by pc1 is: 0.304%\n",
      "Varience explained by pc2 is: 0.293%\n"
     ]
    }
   ],
   "source": [
    "#Looking at varience each explained by PC1 and PC2\n",
    "pc1Var, pc2Var = pca.explained_variance_ratio_\n",
    "print(f'Varience explained by pc1 is: {pc1Var*100:.3f}%')\n",
    "print(f'Varience explained by pc2 is: {pc2Var*100:.3f}%')"
   ]
  },
  {
   "cell_type": "markdown",
   "metadata": {},
   "source": [
    "## PCA does not yield many answers\n",
    "\n",
    "As we can see, performing a Principal Component Analysis is not effective at all on finding a particular dimension that carries more weight than any other, this makes sense given that each SMS text has so many words in them."
   ]
  },
  {
   "cell_type": "markdown",
   "metadata": {},
   "source": [
    "# Lets investigate some keywords that may be of interest\n",
    "\n",
    "By looking at specific words, such as 'free' and 'winning', we might be able to increase the chance that PCA will find a dimension that demonstrates high variability. Lets investigate..."
   ]
  },
  {
   "cell_type": "code",
   "execution_count": 169,
   "metadata": {},
   "outputs": [],
   "source": [
    "freeBool = []\n",
    "winBool = []\n",
    "interestedBool = []\n",
    "buyBool = []\n",
    "dollarSignBool = []\n",
    "offerBool = []\n",
    "\n",
    "keyWordDict = {'free': freeBool, 'win': winBool, 'interested': interestedBool, 'buy': buyBool, \n",
    "               '$': dollarSignBool, 'offer': offerBool}\n",
    "\n",
    "for index, row in df.iterrows():\n",
    "    for keyWord, keyList in keyWordDict.items():\n",
    "        if keyWord in row.text:\n",
    "            keyList.append(1)\n",
    "        else:\n",
    "            keyList.append(0)"
   ]
  },
  {
   "cell_type": "code",
   "execution_count": 170,
   "metadata": {},
   "outputs": [
    {
     "data": {
      "text/html": [
       "<div>\n",
       "<style scoped>\n",
       "    .dataframe tbody tr th:only-of-type {\n",
       "        vertical-align: middle;\n",
       "    }\n",
       "\n",
       "    .dataframe tbody tr th {\n",
       "        vertical-align: top;\n",
       "    }\n",
       "\n",
       "    .dataframe thead th {\n",
       "        text-align: right;\n",
       "    }\n",
       "</style>\n",
       "<table border=\"1\" class=\"dataframe\">\n",
       "  <thead>\n",
       "    <tr style=\"text-align: right;\">\n",
       "      <th></th>\n",
       "      <th>Free</th>\n",
       "      <th>Win</th>\n",
       "      <th>Interested</th>\n",
       "      <th>Buy</th>\n",
       "      <th>DollarSign</th>\n",
       "      <th>Offer</th>\n",
       "      <th>Exlamaition</th>\n",
       "      <th>Question</th>\n",
       "    </tr>\n",
       "  </thead>\n",
       "  <tbody>\n",
       "    <tr>\n",
       "      <th>0</th>\n",
       "      <td>0</td>\n",
       "      <td>0</td>\n",
       "      <td>0</td>\n",
       "      <td>0</td>\n",
       "      <td>0</td>\n",
       "      <td>0</td>\n",
       "      <td>0</td>\n",
       "      <td>0</td>\n",
       "    </tr>\n",
       "    <tr>\n",
       "      <th>1</th>\n",
       "      <td>0</td>\n",
       "      <td>0</td>\n",
       "      <td>0</td>\n",
       "      <td>0</td>\n",
       "      <td>0</td>\n",
       "      <td>0</td>\n",
       "      <td>0</td>\n",
       "      <td>0</td>\n",
       "    </tr>\n",
       "    <tr>\n",
       "      <th>2</th>\n",
       "      <td>1</td>\n",
       "      <td>1</td>\n",
       "      <td>0</td>\n",
       "      <td>0</td>\n",
       "      <td>0</td>\n",
       "      <td>0</td>\n",
       "      <td>0</td>\n",
       "      <td>0</td>\n",
       "    </tr>\n",
       "    <tr>\n",
       "      <th>3</th>\n",
       "      <td>0</td>\n",
       "      <td>0</td>\n",
       "      <td>0</td>\n",
       "      <td>0</td>\n",
       "      <td>0</td>\n",
       "      <td>0</td>\n",
       "      <td>0</td>\n",
       "      <td>0</td>\n",
       "    </tr>\n",
       "    <tr>\n",
       "      <th>4</th>\n",
       "      <td>0</td>\n",
       "      <td>0</td>\n",
       "      <td>0</td>\n",
       "      <td>0</td>\n",
       "      <td>0</td>\n",
       "      <td>0</td>\n",
       "      <td>0</td>\n",
       "      <td>0</td>\n",
       "    </tr>\n",
       "  </tbody>\n",
       "</table>\n",
       "</div>"
      ],
      "text/plain": [
       "   Free  Win  Interested  Buy  DollarSign  Offer  Exlamaition  Question\n",
       "0     0    0           0    0           0      0            0         0\n",
       "1     0    0           0    0           0      0            0         0\n",
       "2     1    1           0    0           0      0            0         0\n",
       "3     0    0           0    0           0      0            0         0\n",
       "4     0    0           0    0           0      0            0         0"
      ]
     },
     "execution_count": 170,
     "metadata": {},
     "output_type": "execute_result"
    }
   ],
   "source": [
    "keyWordDf = pd.DataFrame(list(zip(freeBool, winBool, interestedBool, buyBool, \n",
    "                          dollarSignBool, offerBool, exclaimMark, questionMark)),\n",
    "                          columns=['Free', 'Win', 'Interested', 'Buy', 'DollarSign',\n",
    "                                  'Offer', 'Exlamaition', 'Question'])\n",
    "\n",
    "keyWordDf.head()"
   ]
  },
  {
   "cell_type": "code",
   "execution_count": 171,
   "metadata": {},
   "outputs": [],
   "source": [
    "standardizedFreqCounts = StandardScaler().fit_transform(keyWordDf)"
   ]
  },
  {
   "cell_type": "code",
   "execution_count": 172,
   "metadata": {},
   "outputs": [],
   "source": [
    "#Only looking at PC1 and PC2\n",
    "pca = PCA(n_components=2)\n",
    "princComp = pca.fit_transform(standardizedFreqCounts)"
   ]
  },
  {
   "cell_type": "code",
   "execution_count": 173,
   "metadata": {},
   "outputs": [
    {
     "data": {
      "text/html": [
       "<div>\n",
       "<style scoped>\n",
       "    .dataframe tbody tr th:only-of-type {\n",
       "        vertical-align: middle;\n",
       "    }\n",
       "\n",
       "    .dataframe tbody tr th {\n",
       "        vertical-align: top;\n",
       "    }\n",
       "\n",
       "    .dataframe thead th {\n",
       "        text-align: right;\n",
       "    }\n",
       "</style>\n",
       "<table border=\"1\" class=\"dataframe\">\n",
       "  <thead>\n",
       "    <tr style=\"text-align: right;\">\n",
       "      <th></th>\n",
       "      <th>pc1</th>\n",
       "      <th>pc2</th>\n",
       "      <th>classification</th>\n",
       "    </tr>\n",
       "  </thead>\n",
       "  <tbody>\n",
       "    <tr>\n",
       "      <th>0</th>\n",
       "      <td>-0.474373</td>\n",
       "      <td>-0.162376</td>\n",
       "      <td>1</td>\n",
       "    </tr>\n",
       "    <tr>\n",
       "      <th>1</th>\n",
       "      <td>-0.474373</td>\n",
       "      <td>-0.162376</td>\n",
       "      <td>1</td>\n",
       "    </tr>\n",
       "    <tr>\n",
       "      <th>2</th>\n",
       "      <td>4.619581</td>\n",
       "      <td>1.386276</td>\n",
       "      <td>0</td>\n",
       "    </tr>\n",
       "    <tr>\n",
       "      <th>3</th>\n",
       "      <td>-0.474373</td>\n",
       "      <td>-0.162376</td>\n",
       "      <td>1</td>\n",
       "    </tr>\n",
       "    <tr>\n",
       "      <th>4</th>\n",
       "      <td>-0.474373</td>\n",
       "      <td>-0.162376</td>\n",
       "      <td>1</td>\n",
       "    </tr>\n",
       "  </tbody>\n",
       "</table>\n",
       "</div>"
      ],
      "text/plain": [
       "        pc1       pc2  classification\n",
       "0 -0.474373 -0.162376               1\n",
       "1 -0.474373 -0.162376               1\n",
       "2  4.619581  1.386276               0\n",
       "3 -0.474373 -0.162376               1\n",
       "4 -0.474373 -0.162376               1"
      ]
     },
     "execution_count": 173,
     "metadata": {},
     "output_type": "execute_result"
    }
   ],
   "source": [
    "#Concatinating pc1, pc2, and encoded classification array\n",
    "princDf = pd.DataFrame(princComp, columns=['pc1', 'pc2'])\n",
    "mergedPrincDf = pd.concat([princDf, pd.Series(encodedClassication, name='classification')], axis=1)\n",
    "mergedPrincDf.head()"
   ]
  },
  {
   "cell_type": "code",
   "execution_count": 174,
   "metadata": {},
   "outputs": [
    {
     "data": {
      "image/png": "[encoded data removed]",
      "text/plain": [
       "<Figure size 576x576 with 1 Axes>"
      ]
     },
     "metadata": {
      "needs_background": "light"
     },
     "output_type": "display_data"
    }
   ],
   "source": [
    "#Plotting data, to get a visual representation\n",
    "fig = plt.figure(figsize = (8,8))\n",
    "ax = fig.add_subplot(1,1,1)\n",
    "#Adding x and y labels\n",
    "ax.set_xlabel('PC1', fontsize=15)\n",
    "ax.set_ylabel('PC2', fontsize=15)\n",
    "#Adding title\n",
    "ax.set_title('2-Component PCA Chart', fontsize=20)\n",
    "\n",
    "classifications = [1, 0]\n",
    "colors = ['b', 'r']\n",
    "#Plotting scatter graph\n",
    "for classification, color in zip(classifications, colors):\n",
    "    indicesToKeep = mergedPrincDf['classification'] == classification\n",
    "    ax.scatter(mergedPrincDf.loc[indicesToKeep, 'pc1'], \n",
    "               mergedPrincDf.loc[indicesToKeep, 'pc2'], \n",
    "               c=color, s=50)\n",
    "    \n",
    "ax.legend(classifications)\n",
    "ax.grid()"
   ]
  },
  {
   "cell_type": "code",
   "execution_count": 175,
   "metadata": {},
   "outputs": [
    {
     "name": "stdout",
     "output_type": "stream",
     "text": [
      "Varience explained by pc1 is: 15.412%\n",
      "Varience explained by pc2 is: 14.176%\n"
     ]
    }
   ],
   "source": [
    "#Looking at varience each explained by PC1 and PC2\n",
    "pc1Var, pc2Var = pca.explained_variance_ratio_\n",
    "print(f'Varience explained by pc1 is: {pc1Var*100:.3f}%')\n",
    "print(f'Varience explained by pc2 is: {pc2Var*100:.3f}%')"
   ]
  },
  {
   "cell_type": "code",
   "execution_count": null,
   "metadata": {},
   "outputs": [],
   "source": []
  }
 ],
 "metadata": {
  "celltoolbar": "Raw Cell Format",
  "kernelspec": {
   "display_name": "Python 3",
   "language": "python",
   "name": "python3"
  },
  "language_info": {
   "codemirror_mode": {
    "name": "ipython",
    "version": 3
   },
   "file_extension": ".py",
   "mimetype": "text/x-python",
   "name": "python",
   "nbconvert_exporter": "python",
   "pygments_lexer": "ipython3",
   "version": "3.7.3"
  }
 },
 "nbformat": 4,
 "nbformat_minor": 2
}
